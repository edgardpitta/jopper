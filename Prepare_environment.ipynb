{
  "nbformat": 4,
  "nbformat_minor": 0,
  "metadata": {
    "colab": {
      "name": "Prepare environment.ipynb",
      "provenance": [],
      "authorship_tag": "ABX9TyNsLq5sH5TaypIjZtZx1cRZ",
      "include_colab_link": true
    },
    "kernelspec": {
      "name": "python3",
      "display_name": "Python 3"
    },
    "language_info": {
      "name": "python"
    }
  },
  "cells": [
    {
      "cell_type": "markdown",
      "metadata": {
        "id": "view-in-github",
        "colab_type": "text"
      },
      "source": [
        "<a href=\"https://colab.research.google.com/github/edgardpitta/jopper/blob/main/Prepare_environment.ipynb\" target=\"_parent\"><img src=\"https://colab.research.google.com/assets/colab-badge.svg\" alt=\"Open In Colab\"/></a>"
      ]
    },
    {
      "cell_type": "code",
      "execution_count": null,
      "metadata": {
        "colab": {
          "base_uri": "https://localhost:8080/"
        },
        "id": "agQ-ovdwLsoT",
        "outputId": "daa20385-78cf-4bde-d444-a3c8e7a4ee46"
      },
      "outputs": [
        {
          "output_type": "stream",
          "name": "stdout",
          "text": [
 ]
        }
      ],
      "source": [
        "!pip install pandas \n",
        "!pip install numpy\n",
        "!pip install textblob \n",
        "!pip install altair \n",
        "!pip install vaderSentiment\n",
        "!pip install vega\n",
        "!pip install wordcloud\n",
        "!pip install spacy\n",
        "!pip install neattext\n",
        "!pip install matplotlib"
      ]
    }
  ]
}
