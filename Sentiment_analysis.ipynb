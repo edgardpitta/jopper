{
  "nbformat": 4,
  "nbformat_minor": 0,
  "metadata": {
    "colab": {
      "name": "Sentiment analysis.ipynb",
      "provenance": [],
      "collapsed_sections": [],
      "toc_visible": true,
      "include_colab_link": true
    },
    "kernelspec": {
      "name": "python3",
      "display_name": "Python 3"
    },
    "language_info": {
      "name": "python"
    }
  },
  "cells": [
    {
      "cell_type": "markdown",
      "metadata": {
        "id": "view-in-github",
        "colab_type": "text"
      },
      "source": [
        "<a href=\"https://colab.research.google.com/github/edgardpitta/jopper/blob/main/Sentiment_analysis.ipynb\" target=\"_parent\"><img src=\"https://colab.research.google.com/assets/colab-badge.svg\" alt=\"Open In Colab\"/></a>"
      ]
    },
    {
      "cell_type": "markdown",
      "source": [
        "# Activity\n",
        "\n",
        "1. In the Runtime/Environnement d'execution menu item, click 'Run all'. This can take some time as it prepares your environment for the script to run.\n",
        "\n",
        "2. When prompted, paste your pitch into the text field and the script will run automatically.\n",
        "\n",
        "3. Analyze your wordcloud:\n",
        "- Can you see your top keywords in the wordcloud?\n",
        "\n",
        "4. Analyze your sentiment analysis scores:\n",
        "- Make sure your Polarity is at least positive (greater than 0.5) and your Subjective is high (greater than 0.5).\n",
        "- Do you have a good amount of positive words?\n",
        "- Does it make sense to eliminate negative words, if any?\n",
        "- Do you have excessive neutral/stop words?\n",
        "\n",
        "5. Analyze the Natural Language Processing - NLP section:\n",
        "- Do you have a good number of non-stopwords adjectives?\n",
        "- Do you have a good number of non-stopwords and high quality verbs?\n",
        "- Do you have more than 60% non-stopwords in total?\n",
        "\n",
        "6. Be sure to rewrite your pitch to reflect the desired changes and re-run the script as many times you want. For doing so, select the cell 'Pitch' and click 'Ctrl+F10' or in the menu item Runtime/Environnement d'exécution, choose Run After/Courir Après. Paste the revised version of your pitch and press 'Enter'. The script will then re-run to reflect the changes in the pitch.\n",
        "\n",
        "7. **Print the page as a PDF and upload it to K2. This is a graded activity and you will not be graded if the activity is not loaded into K2**.\n",
        "\n",
        "[Click here to download these instructions.](https://skema-my.sharepoint.com/:b:/g/personal/edgard_pitta-ext_skema_edu/EYq5MxEG67xKptc7h8u1SjoBQQ1W02g2B6UN6phwZPcBcA?e=ZV8bgs)"
      ],
      "metadata": {
        "id": "bXdUv46R8e_o"
      }
    },
    {
      "cell_type": "code",
      "source": [
        "#@title Imports & Functions - Run only once {display-mode: \"form\"}\n",
        " \n",
        "# Do not change it.\n",
        "\n",
        "# Installs\n",
        "%%capture\n",
        "!pip install pandas \n",
        "!pip install numpy\n",
        "!pip install textblob \n",
        "!pip install altair \n",
        "!pip install vaderSentiment\n",
        "!pip install vega\n",
        "!pip install wordcloud\n",
        "!pip install spacy\n",
        "!pip install neattext\n",
        "!pip install matplotlib\n",
        "\n",
        "# Imports\n",
        "from textblob import TextBlob\n",
        "import pandas as pd\n",
        "import altair as alt\n",
        "from vaderSentiment.vaderSentiment import SentimentIntensityAnalyzer\n",
        "from google.colab import data_table\n",
        "from wordcloud import WordCloud, STOPWORDS\n",
        "import spacy\n",
        "nlp = spacy.load('en_core_web_sm')\n",
        "import neattext as nfx\n",
        "import matplotlib.pyplot as plt\n",
        "%load_ext google.colab.data_table\n",
        "data_table.enable_dataframe_formatter()\n",
        "alt.renderers.enable('default')\n",
        "\n",
        "# Functions\n",
        "def convert_to_df(sentiment):\n",
        "\tsentiment_dict = {'polarity':sentiment.polarity,'subjectivity':sentiment.subjectivity}\n",
        "\tsentiment_df = pd.DataFrame(sentiment_dict.items(),columns=['metric','value'])\n",
        "\treturn sentiment_df \n",
        "\n",
        "def analyze_token_sentiment(docx):\n",
        "\tanalyzer = SentimentIntensityAnalyzer()\n",
        "\tpos_list = []\n",
        "\tneg_list = []\n",
        "\tneu_list = []\n",
        "\tfor i in docx.split():\n",
        "\t\tres = analyzer.polarity_scores(i)['compound']\n",
        "\t\tif res > 0.1:\n",
        "\t\t\tpos_list.append(i)\n",
        "\t\t\tpos_list.append(res)\n",
        "\n",
        "\t\telif res <= -0.1:\n",
        "\t\t\tneg_list.append(i)\n",
        "\t\t\tneg_list.append(res)\n",
        "\t\telse:\n",
        "\t\t\tneu_list.append(i)\n",
        "\n",
        "\tresult = {'positives':pos_list,'negatives':neg_list,'neutral':neu_list}\n",
        "\treturn result \n",
        "\n",
        "def text_analyzer(my_text):\n",
        "\tdocx = nlp(my_text)\n",
        "\tallData = [(token.text, token.shape_, token.pos_, token.tag_, token.lemma_,token.is_alpha, token.is_stop) for token in docx]\n",
        "\tdf_tokens = pd.DataFrame(allData, columns=['Token', 'Shape', 'PoS', 'Tag', 'Lemma', 'IsAlpha', 'IsStopWords'])\n",
        "\treturn df_tokens\n",
        "\n",
        "def text_cleaner(my_text):\n",
        "\tstpw = nfx(my_text)\n",
        "\tstpw = stpw.lower().remove_stopwords().remove_numbers().remove_punctuations().remove_special_characters()\n",
        "\treturn stpw\n",
        "\n",
        "def plot_wordcloud(docx):\n",
        "\tmy_wordcloud = WordCloud(background_color=\"white\").generate(docx)\n",
        "\tfig = plt.figure()\n",
        "\tplt.imshow(my_wordcloud, interpolation='bilinear')\n",
        "\tplt.axis('off')\n",
        " \n",
        " # Create stopword list:\n",
        "stopwords = set(STOPWORDS)\n",
        "stopwords.update([\"thanks\", \"little\", \"im\",\"Im\",\"Hi\", \"Hello\", \"School\", \"city\", \"name\", \"time\", \"semester\", \"tell\", \"work\", \"lots\", \"glad\", \"meet\", \"morning\", \"afternoon\", \"field\", \"will\", \"looking\", ])\n"
      ],
      "metadata": {
        "id": "cfbC3Z_25Daf",
        "collapsed": true
      },
      "execution_count": null,
      "outputs": []
    },
    {
      "cell_type": "markdown",
      "source": [
        "## 1. Run the cell below, paste your pitch in the text field and press Enter\n"
      ],
      "metadata": {
        "id": "pphIhJ1n8uxd"
      }
    },
    {
      "cell_type": "code",
      "source": [
        "#@title Pitch {display-mode: \"form\"}\n",
        "raw_text = input() \n",
        "txt_text=raw_text.split('\\n')\n",
        "txt_df=pd.DataFrame(txt_text, columns = ['pitch'])\n",
        "txt_df"
      ],
      "metadata": {
        "id": "uWFUmJfc3TZC"
      },
      "execution_count": null,
      "outputs": []
    },
    {
      "cell_type": "markdown",
      "source": [
        "If you want to change your pitch, just re-run all the cells from here by selecting the cell 'Pitch' and clicking 'Ctrl+F10' or in the menu item Runtime/Environnement d'exécution, choose Run Selection/Courir Après."
      ],
      "metadata": {
        "id": "HTm4ggWPG4If"
      }
    },
    {
      "cell_type": "code",
      "source": [
        "#@title Code {display-mode: \"form\"}\n",
        "\n",
        "# Do not change it.\n",
        "sentiment = TextBlob(raw_text).sentiment\n",
        "result_df = convert_to_df(sentiment)\n",
        "token_sentiments = analyze_token_sentiment(raw_text)"
      ],
      "metadata": {
        "id": "t1f1ML641ZxE"
      },
      "execution_count": null,
      "outputs": []
    },
    {
      "cell_type": "markdown",
      "source": [
        "## 2. Pitch Wordcloud\n",
        "This wordcloud shows the main keywords of your pitch, excluding stopwords.\n",
        "\n",
        "Stopwords are those words that do not provide any useful information to decide in which category a text should be classified. This may be either because they don't have any meaning (prepositions, conjunctions, etc.) or because they are too frequent in the classification context."
      ],
      "metadata": {
        "id": "gmll300JK1qd"
      }
    },
    {
      "cell_type": "code",
      "source": [
        "#@title Wordcloud  {display-mode: \"form\"}\n",
        "\n",
        "# Generate a word cloud image\n",
        "wordcloud = WordCloud(stopwords=stopwords, background_color=\"white\").generate(raw_text)\n",
        "\n",
        "# Display the generated image:\n",
        "\n",
        "plt.rcParams['figure.figsize'] = [12, 8]\n",
        "\n",
        "# the matplotlib way:\n",
        "plt.imshow(wordcloud, interpolation='bilinear')\n",
        "plt.axis(\"off\")\n",
        "plt.show()\n"
      ],
      "metadata": {
        "id": "G2ulm34yOv2j"
      },
      "execution_count": null,
      "outputs": []
    },
    {
      "cell_type": "markdown",
      "source": [
        "## 3. Your pitch's Sentiment Analysis \n",
        "\n",
        "---\n",
        "\n",
        "Sentiment analysis (also known as opinion mining or emotion AI) is the use of natural language processing, text analysis, computational linguistics, and biometrics to systematically identify, extract, quantify, and study affective states and subjective information. \n",
        "\n"
      ],
      "metadata": {
        "id": "Jsh8rioV9hzi"
      }
    },
    {
      "cell_type": "code",
      "source": [
        "#@title Sentiment Analysis Graph {display-mode: \"form\"}\n",
        "chart = alt.Chart(result_df).mark_bar().encode(x='metric', y='value', color='metric')\n",
        "chart"
      ],
      "metadata": {
        "id": "T0HNj5wt5XJO"
      },
      "execution_count": null,
      "outputs": []
    },
    {
      "cell_type": "markdown",
      "source": [
        "The **Polarity** defines the phase of emotions expressed in the analyzed text. It ranges from -1 to 1 and goes like this: Very Positive, Positive, Neutral, Negative, Very Negative).\n",
        "\n",
        "**Subjectivity** quantifies the amount of personal opinion and factual information contained in the text. It has values from 0 to 1. A value closer to 0 shows the sentence is objective and closer to 1 means that the text contains personal opinion rather than factual information. For the sake of this exercise, we consider 0.5 as the cutoff score: >0.5 Very Subjective; <0.5 Little Subjective.\n",
        "\n",
        "\n",
        "\n",
        "\n",
        "\n"
      ],
      "metadata": {
        "id": "HOjB2CTBAZFK"
      }
    },
    {
      "cell_type": "code",
      "source": [
        "#@title Your pitch's Polarity {display-mode: \"form\"}\n",
        "\n",
        "# This code will be hidden when the notebook is loaded.\n",
        "\n",
        "if sentiment.polarity >= 0.5:\n",
        "  print(\"Very Positive polarity 😀. Congratulations, you have done a good job on your pitch!!\") \n",
        "elif sentiment.polarity > 0 < 0.5:\n",
        "  print(\"Positive polarity 😀. The polarity of your pitch is adequate, but you can always improve it with more positive words!\")\n",
        "elif sentiment == 0:\n",
        "  print(\"Neutral.polarity 😴. A little bit boring, maybe... You could improve your pitch by including some positive words on it.\")\n",
        "elif sentiment > -0.5 < 0:\n",
        "  print (\"Negative.polarity 😟. Your pitch is in a dangerous zone, because it is lacking some positive words on it. You could definitivelly improve it.\")\n",
        "elif sentiment <= -0.5:\n",
        "  print(\"Very Negative.polarity 😟. Your pitch is in a dangerous zone, because it is lacking some positive words on it. You should definitivelly improve it.\")\n"
      ],
      "metadata": {
        "id": "o5vJs6kg8oRW"
      },
      "execution_count": null,
      "outputs": []
    },
    {
      "cell_type": "markdown",
      "source": [
        "Consult the following list of **Positive words** to improve your pitch's polarity.\n",
        "\n",
        "https://www.dictionary.com/learn/word-lists/writing/bcyhlTa1BVU \n",
        "\n",
        "List of **Action Verbs**\n",
        "\n",
        "https://www.themuse.com/advice/185-powerful-verbs-that-will-make-your-resume-awesome "
      ],
      "metadata": {
        "id": "Fx3CrlxBKzYx"
      }
    },
    {
      "cell_type": "code",
      "source": [
        "#@title Your pitch's Subjectivity {display-mode: \"form\"}\n",
        "\n",
        "# This code will be hidden when the notebook is loaded.\n",
        "if sentiment.subjectivity > 0.5:\n",
        "  print(\"Very subjective 😀. Very good work, you got the point!!\")\n",
        "else:\n",
        "  print(\"Little subjective 😴. As your pitch aims to sell yourself, some subjectivity is expected to get to know you better. Improve it by choosing some subjective words!\")"
      ],
      "metadata": {
        "id": "M2v9b0tr8oib"
      },
      "execution_count": null,
      "outputs": []
    },
    {
      "cell_type": "markdown",
      "source": [
        "Know more about Subjectivity in the articles below:\n",
        "\n",
        "- Recognizing Objective and Subjective Language \n",
        "\n",
        "http://content.nroc.org/DevelopmentalEnglish/unit05/Foundations/recognizing-objective-and-subjective-language.html \n",
        "\n",
        "- Objective and Subjective Word List\n",
        "\n",
        "https://www.in.gov/fssa/ddrs/files/Objective-and-Subjective-Word-List.pdf "
      ],
      "metadata": {
        "id": "pqq6UzlSK3ZT"
      }
    },
    {
      "cell_type": "markdown",
      "source": [
        "## 4. Your Words Polarity Analysis"
      ],
      "metadata": {
        "id": "tXmjMj-S6FBm"
      }
    },
    {
      "cell_type": "code",
      "source": [
        "#@title Positive Words {display-mode: \"form\"}\n",
        "\n",
        "token_sentiments['positives']\n"
      ],
      "metadata": {
        "id": "513spTvRNCJZ"
      },
      "execution_count": null,
      "outputs": []
    },
    {
      "cell_type": "markdown",
      "source": [
        "Notice that positive words are your Soft Skills used in context."
      ],
      "metadata": {
        "id": "0udyLYiEL7aO"
      }
    },
    {
      "cell_type": "code",
      "source": [
        "#@title Negative Words {display-mode: \"form\"}\n",
        "\n",
        "token_sentiments['negatives']"
      ],
      "metadata": {
        "id": "msg5FziNFQmb"
      },
      "execution_count": null,
      "outputs": []
    },
    {
      "cell_type": "markdown",
      "source": [
        "Not all of the words on this list are truly negative in real life, but for the purposes of this exercise they will lower your score."
      ],
      "metadata": {
        "id": "A6eKXXfxMMr3"
      }
    },
    {
      "cell_type": "code",
      "source": [
        "#@title Neutral Words {display-mode: \"form\"}\n",
        "\n",
        "token_sentiments['neutral']"
      ],
      "metadata": {
        "id": "cukKDjyJNiLk"
      },
      "execution_count": null,
      "outputs": []
    },
    {
      "cell_type": "markdown",
      "source": [
        "Note that most of your technical skills will appear in this list. This means that while they are irrelevant to sentiment analysis, they will be relevant to other analyses, notably your adherence to the specific technical skills required by the job."
      ],
      "metadata": {
        "id": "DZP68XO9MlYy"
      }
    },
    {
      "cell_type": "code",
      "source": [
        "#@title Text Analyzer (Database) {display-mode: \"form\"}\n",
        "\n",
        "\n",
        "data_table.enable_dataframe_formatter()\n",
        "\n",
        "tokens = text_analyzer(raw_text)\n",
        "tokens"
      ],
      "metadata": {
        "id": "WqDPYFxjOtLr"
      },
      "execution_count": null,
      "outputs": []
    },
    {
      "cell_type": "markdown",
      "source": [
        "# NLP Vocabulary\n",
        "\n",
        "Tokenization is a way of separating a piece of text into smaller units called tokens. Here, **tokens** can be either words, characters, or punctuation.\n",
        "\n",
        "A **POS tag** (or part-of-speech tag) is a special label assigned to each token (word) in a text corpus to indicate the part of speech and often also other grammatical categories such as tense, number (plural/singular), case etc. More info: https://en.wikipedia.org/wiki/Part_of_speech.\n",
        "\n",
        "The **lemma** is the form of the word  found in dictionaries, sometimes called the **base form**. Introducing lemmas makes it possible to treat different word forms of the word as the same word. \n",
        "\n",
        "**Stopwords** are those words that do not provide any useful information to decide in which category a text should be classified. This may be either because they don't have any meaning (prepositions, conjunctions, etc.) or because they are too frequent in the classification context."
      ],
      "metadata": {
        "id": "5ncx--r_02sV"
      }
    }
  ]
}