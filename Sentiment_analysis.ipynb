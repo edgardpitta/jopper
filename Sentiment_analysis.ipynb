{
  "nbformat": 4,
  "nbformat_minor": 0,
  "metadata": {
    "colab": {
      "name": "Sentiment analysis.ipynb",
      "provenance": [],
      "collapsed_sections": [],
      "include_colab_link": true
    },
    "kernelspec": {
      "name": "python3",
      "display_name": "Python 3"
    },
    "language_info": {
      "name": "python"
    }
  },
  "cells": [
    {
      "cell_type": "markdown",
      "metadata": {
        "id": "view-in-github",
        "colab_type": "text"
      },
      "source": [
        "<a href=\"https://colab.research.google.com/github/edgardpitta/jopper/blob/main/Sentiment_analysis.ipynb\" target=\"_parent\"><img src=\"https://colab.research.google.com/assets/colab-badge.svg\" alt=\"Open In Colab\"/></a>"
      ]
    },
    {
      "cell_type": "code",
      "source": [
        "#@title 1. Libraries and Dependencies {display-mode: \"form\"}\n",
        " \n",
        "# Do not change it.\n",
        "\n",
        "# Installs\n",
        "%%capture\n",
        "\n",
        "# Imports\n",
        "from textblob import TextBlob\n",
        "import pandas as pd\n",
        "import altair as alt\n",
        "from vaderSentiment.vaderSentiment import SentimentIntensityAnalyzer\n",
        "from google.colab import data_table\n",
        "from wordcloud import WordCloud, STOPWORDS\n",
        "import spacy\n",
        "nlp = spacy.load('en_core_web_sm')\n",
        "import neattext as nfx\n",
        "import matplotlib.pyplot as plt\n",
        "data_table.enable_dataframe_formatter()\n",
        "alt.renderers.enable('default')\n",
        "\n",
        "# Functions\n",
        "def convert_to_df(sentiment):\n",
        "\tsentiment_dict = {'polarity':sentiment.polarity,'subjectivity':sentiment.subjectivity}\n",
        "\tsentiment_df = pd.DataFrame(sentiment_dict.items(),columns=['metric','value'])\n",
        "\treturn sentiment_df \n",
        "\n",
        "def analyze_token_sentiment(docx):\n",
        "\tanalyzer = SentimentIntensityAnalyzer()\n",
        "\tpos_list = []\n",
        "\tneg_list = []\n",
        "\tneu_list = []\n",
        "\tfor i in docx.split():\n",
        "\t\tres = analyzer.polarity_scores(i)['compound']\n",
        "\t\tif res > 0.1:\n",
        "\t\t\tpos_list.append(i)\n",
        "\t\t\tpos_list.append(res)\n",
        "\n",
        "\t\telif res <= -0.1:\n",
        "\t\t\tneg_list.append(i)\n",
        "\t\t\tneg_list.append(res)\n",
        "\t\telse:\n",
        "\t\t\tneu_list.append(i)\n",
        "\n",
        "\tresult = {'positives':pos_list,'negatives':neg_list,'neutral':neu_list}\n",
        "\treturn result \n",
        "\n",
        "def text_analyzer(my_text):\n",
        "\tdocx = nlp(my_text)\n",
        "\tallData = [(token.text, token.shape_, token.pos_, token.tag_, token.lemma_,token.is_alpha, token.is_stop) for token in docx]\n",
        "\tdf_tokens = pd.DataFrame(allData, columns=['Token', 'Shape', 'PoS', 'Tag', 'Lemma', 'IsAlpha', 'IsStopWords'])\n",
        "\treturn df_tokens\n",
        "\n",
        "def text_cleaner(my_text):\n",
        "\tstpw = nfx(my_text)\n",
        "\tstpw = stpw.lower().remove_stopwords().remove_numbers().remove_punctuations().remove_special_characters()\n",
        "\treturn stpw\n",
        "\n",
        "def plot_wordcloud(docx):\n",
        "\tmy_wordcloud = WordCloud(background_color=\"white\").generate(docx)\n",
        "\tfig = plt.figure()\n",
        "\tplt.imshow(my_wordcloud, interpolation='bilinear')\n",
        "\tplt.axis('off')"
      ],
      "metadata": {
        "id": "cfbC3Z_25Daf",
        "collapsed": true
      },
      "execution_count": null,
      "outputs": []
    },
    {
      "cell_type": "markdown",
      "source": [
        "## 2. Paste your pitch in the field below and press Enter\n"
      ],
      "metadata": {
        "id": "pphIhJ1n8uxd"
      }
    },
    {
      "cell_type": "code",
      "source": [
        "#@title Pitch {display-mode: \"form\"}\n",
        "raw_text = input() \n",
        "\n"
      ],
      "metadata": {
        "id": "uWFUmJfc3TZC"
      },
      "execution_count": null,
      "outputs": []
    },
    {
      "cell_type": "markdown",
      "source": [
        "If you want to change your pitch, just re-run all the cells from here by selecting the cell 'Pitch' and clicking 'Ctrl+F10' or in the menu item Runtime Environment/Environnement d'exécution, choose All/Tout."
      ],
      "metadata": {
        "id": "HTm4ggWPG4If"
      }
    },
    {
      "cell_type": "code",
      "source": [
        "#@title Code {display-mode: \"form\"}\n",
        "\n",
        "# Do not change it.\n",
        "sentiment = TextBlob(raw_text).sentiment\n",
        "result_df = convert_to_df(sentiment)\n",
        "token_sentiments = analyze_token_sentiment(raw_text)"
      ],
      "metadata": {
        "id": "t1f1ML641ZxE"
      },
      "execution_count": null,
      "outputs": []
    },
    {
      "cell_type": "markdown",
      "source": [
        "## 3. Wordclouds\n",
        "This wordcloud shows the main keywords of your pitch."
      ],
      "metadata": {
        "id": "gmll300JK1qd"
      }
    },
    {
      "cell_type": "code",
      "source": [
        "#@title This wordcloud shows the main keywords of your pitch. {display-mode: \"form\"}\n",
        "plot_wordcloud(raw_text)"
      ],
      "metadata": {
        "id": "leUlc2JmK33R"
      },
      "execution_count": null,
      "outputs": []
    },
    {
      "cell_type": "code",
      "source": [
        "#@title This wordcloud shows the main keywords of your pitch, excluding stop-words. {display-mode: \"form\"}\n",
        "# Create stopword list:\n",
        "stopwords = set(STOPWORDS)\n",
        "stopwords.update([\"thanks\", \"little\", \"Hi\", \"Hello\", \"School\", \"city\", \"name\", \"time\", \"semester\", \"tell\", \"work\", \"lots\", \"glad\", \"meet\", \"morning\", \"afternoon\", \"field\", \"will\", \"looking\", ])\n",
        "\n",
        "# Generate a word cloud image\n",
        "wordcloud = WordCloud(stopwords=stopwords, background_color=\"white\").generate(raw_text)\n",
        "\n",
        "# Display the generated image:\n",
        "# the matplotlib way:\n",
        "plt.imshow(wordcloud, interpolation='bilinear')\n",
        "plt.axis(\"off\")\n",
        "plt.show()\n"
      ],
      "metadata": {
        "id": "G2ulm34yOv2j"
      },
      "execution_count": null,
      "outputs": []
    },
    {
      "cell_type": "markdown",
      "source": [
        "Stopwords are those words that do not provide any useful information to decide in which category a text should be classified. This may be either because they don't have any meaning (prepositions, conjunctions, etc.) or because they are too frequent in the classification context."
      ],
      "metadata": {
        "id": "-tgnwdB_WRq1"
      }
    },
    {
      "cell_type": "markdown",
      "source": [
        "## 3. Your pitch's Sentiment Analysis \n",
        "\n",
        "---\n",
        "\n",
        "Sentiment analysis (also known as opinion mining or emotion AI) is the use of natural language processing, text analysis, computational linguistics, and biometrics to systematically identify, extract, quantify, and study affective states and subjective information. \n",
        "\n"
      ],
      "metadata": {
        "id": "Jsh8rioV9hzi"
      }
    },
    {
      "cell_type": "code",
      "source": [
        "#@title Chart {display-mode: \"form\"}\n",
        "chart = alt.Chart(result_df).mark_bar().encode(x='metric', y='value', color='metric')\n",
        "chart"
      ],
      "metadata": {
        "id": "T0HNj5wt5XJO"
      },
      "execution_count": null,
      "outputs": []
    },
    {
      "cell_type": "markdown",
      "source": [
        "The **Polarity** defines the phase of emotions expressed in the analyzed text. It ranges from -1 to 1 and goes like this: Very Positive, Positive, Neutral, Negative, Very Negative)\n",
        "\n",
        "**Subjectivity** quantifies the amount of personal opinion and factual information contained in the text. It has values from 0 to 1. A value closer to 0 shows the sentence is objective and closer to 1 means that the text contains personal opinion rather than factual information. \n"
      ],
      "metadata": {
        "id": "HOjB2CTBAZFK"
      }
    },
    {
      "cell_type": "code",
      "source": [
        "#@title Your pitch's Polarity {display-mode: \"form\"}\n",
        "\n",
        "# This code will be hidden when the notebook is loaded.\n",
        "\n",
        "polarity = sentiment.polarity\n",
        "\n",
        "if sentiment.polarity > 0:\n",
        "  print(\"Positive polarity 😀\")\n",
        "elif sentiment.polarity < 0:\n",
        "  (\"Negative polarity 😟\")\n",
        "else:\n",
        "  print(\"Neutral polarity 😴\")\n"
      ],
      "metadata": {
        "id": "o5vJs6kg8oRW"
      },
      "execution_count": null,
      "outputs": []
    },
    {
      "cell_type": "code",
      "source": [
        "#@title Your pitch's Subjectivity {display-mode: \"form\"}\n",
        "\n",
        "# This code will be hidden when the notebook is loaded.\n",
        "if sentiment.subjectivity > 0.5:\n",
        "  print(\"High subjectivity 😀\")\n",
        "else:\n",
        "  print(\"Low subjectivity 😴\")"
      ],
      "metadata": {
        "id": "M2v9b0tr8oib"
      },
      "execution_count": null,
      "outputs": []
    },
    {
      "cell_type": "markdown",
      "source": [
        "## 4. Token Polarity Analysis"
      ],
      "metadata": {
        "id": "tXmjMj-S6FBm"
      }
    },
    {
      "cell_type": "code",
      "source": [
        "#@title Positive Words {display-mode: \"form\"}\n",
        "\n",
        "token_sentiments['positives']\n"
      ],
      "metadata": {
        "id": "513spTvRNCJZ"
      },
      "execution_count": null,
      "outputs": []
    },
    {
      "cell_type": "code",
      "source": [
        "#@title Negative Words {display-mode: \"form\"}\n",
        "\n",
        "token_sentiments['negatives']"
      ],
      "metadata": {
        "id": "msg5FziNFQmb"
      },
      "execution_count": null,
      "outputs": []
    },
    {
      "cell_type": "code",
      "source": [
        "#@title Neutral Words {display-mode: \"form\"}\n",
        "\n",
        "token_sentiments['neutral']"
      ],
      "metadata": {
        "id": "cukKDjyJNiLk"
      },
      "execution_count": null,
      "outputs": []
    }
  ]
}