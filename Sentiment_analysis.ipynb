{
  "nbformat": 4,
  "nbformat_minor": 0,
  "metadata": {
    "colab": {
      "name": "Sentiment analysis.ipynb",
      "provenance": [],
      "collapsed_sections": [],
      "include_colab_link": true
    },
    "kernelspec": {
      "name": "python3",
      "display_name": "Python 3"
    },
    "language_info": {
      "name": "python"
    }
  },
  "cells": [
    {
      "cell_type": "markdown",
      "metadata": {
        "id": "view-in-github",
        "colab_type": "text"
      },
      "source": [
        "<a href=\"https://colab.research.google.com/github/edgardpitta/jopper/blob/main/Sentiment_analysis.ipynb\" target=\"_parent\"><img src=\"https://colab.research.google.com/assets/colab-badge.svg\" alt=\"Open In Colab\"/></a>"
      ]
    },
    {
      "cell_type": "markdown",
      "source": [
        "# Activity\n",
        "\n",
        "1. In the Runtime/Environnement d'execution menu item, click 'Run all'. This can take some time as it prepares your environment for the script to run.\n",
        "\n",
        "2. When prompted, paste your pitch into the text field and the script will run automatically.\n",
        "\n",
        "3. Analyze your wordcloud:\n",
        "- Can you see your top keywords in the wordcloud?\n",
        "\n",
        "4. Analyze your sentiment analysis scores:\n",
        "- Make sure your Polarity is at least positive (greater than 0.5) and your Subjective is high (greater than 0.5).\n",
        "- Do you have a good amount of positive words?\n",
        "- Does it make sense to eliminate negative words, if any?\n",
        "- Do you have excessive neutral/stop words?\n",
        "\n",
        "5. Analyze the Natural Language Processing - NLP section:\n",
        "- Do you have a good number of non-stopwords adjectives?\n",
        "- Do you have a good number of non-stopwords and high quality verbs?\n",
        "- Do you have more than 60% non-stopwords in total?\n",
        "\n",
        "6. Be sure to rewrite your pitch to reflect the desired changes and re-run the script as many times you want. For doing so, select the cell 'Pitch' and click 'Ctrl+F10' or in the menu item Runtime/Environnement d'exécution, choose Run After/Courir Après. Paste the revised version of your pitch and press 'Enter'. The script will then re-run to reflect the changes in the pitch.\n",
        "\n",
        "7. Print the page as a PDF and upload it to K2. This is a graded activity and **you will not be graded if the activity is not loaded into K2**.\n",
        "\n",
        "[Click here to download these instructions.](https://skema-my.sharepoint.com/:b:/g/personal/edgard_pitta-ext_skema_edu/EYq5MxEG67xKptc7h8u1SjoBQQ1W02g2B6UN6phwZPcBcA?e=ZV8bgs)"
      ],
      "metadata": {
        "id": "bXdUv46R8e_o"
      }
    },
    {
      "cell_type": "code",
      "source": [
        "#@title Imports & Functions - Run only once {display-mode: \"form\"}\n",
        " \n",
        "# Do not change it.\n",
        "\n",
        "# Installs\n",
        "%%capture\n",
        "!pip install pandas \n",
        "!pip install numpy\n",
        "!pip install textblob \n",
        "!pip install altair \n",
        "!pip install vaderSentiment\n",
        "!pip install vega\n",
        "!pip install wordcloud\n",
        "!pip install spacy\n",
        "!pip install neattext\n",
        "!pip install matplotlib\n",
        "\n",
        "# Imports\n",
        "from textblob import TextBlob\n",
        "import pandas as pd\n",
        "import altair as alt\n",
        "from vaderSentiment.vaderSentiment import SentimentIntensityAnalyzer\n",
        "from google.colab import data_table\n",
        "from wordcloud import WordCloud, STOPWORDS\n",
        "import spacy\n",
        "nlp = spacy.load('en_core_web_sm')\n",
        "import neattext as nfx\n",
        "import matplotlib.pyplot as plt\n",
        "%load_ext google.colab.data_table\n",
        "data_table.enable_dataframe_formatter()\n",
        "alt.renderers.enable('default')\n",
        "\n",
        "# Functions\n",
        "def convert_to_df(sentiment):\n",
        "\tsentiment_dict = {'polarity':sentiment.polarity,'subjectivity':sentiment.subjectivity}\n",
        "\tsentiment_df = pd.DataFrame(sentiment_dict.items(),columns=['metric','value'])\n",
        "\treturn sentiment_df \n",
        "\n",
        "def analyze_token_sentiment(docx):\n",
        "\tanalyzer = SentimentIntensityAnalyzer()\n",
        "\tpos_list = []\n",
        "\tneg_list = []\n",
        "\tneu_list = []\n",
        "\tfor i in docx.split():\n",
        "\t\tres = analyzer.polarity_scores(i)['compound']\n",
        "\t\tif res > 0.1:\n",
        "\t\t\tpos_list.append(i)\n",
        "\t\t\tpos_list.append(res)\n",
        "\n",
        "\t\telif res <= -0.1:\n",
        "\t\t\tneg_list.append(i)\n",
        "\t\t\tneg_list.append(res)\n",
        "\t\telse:\n",
        "\t\t\tneu_list.append(i)\n",
        "\n",
        "\tresult = {'positives':pos_list,'negatives':neg_list,'neutral':neu_list}\n",
        "\treturn result \n",
        "\n",
        "def text_analyzer(my_text):\n",
        "\tdocx = nlp(my_text)\n",
        "\tallData = [(token.text, token.shape_, token.pos_, token.tag_, token.lemma_,token.is_alpha, token.is_stop) for token in docx]\n",
        "\tdf_tokens = pd.DataFrame(allData, columns=['Token', 'Shape', 'PoS', 'Tag', 'Lemma', 'IsAlpha', 'IsStopWords'])\n",
        "\treturn df_tokens\n",
        "\n",
        "def text_cleaner(my_text):\n",
        "\tstpw = nfx(my_text)\n",
        "\tstpw = stpw.lower().remove_stopwords().remove_numbers().remove_punctuations().remove_special_characters()\n",
        "\treturn stpw\n",
        "\n",
        "def plot_wordcloud(docx):\n",
        "\tmy_wordcloud = WordCloud(background_color=\"white\").generate(docx)\n",
        "\tfig = plt.figure()\n",
        "\tplt.imshow(my_wordcloud, interpolation='bilinear')\n",
        "\tplt.axis('off')\n",
        " \n",
        " # Create stopword list:\n",
        "stopwords = set(STOPWORDS)\n",
        "stopwords.update([\"thanks\", \"little\", \"Hi\", \"Hello\", \"School\", \"city\", \"name\", \"time\", \"semester\", \"tell\", \"work\", \"lots\", \"glad\", \"meet\", \"morning\", \"afternoon\", \"field\", \"will\", \"looking\", ])\n"
      ],
      "metadata": {
        "id": "cfbC3Z_25Daf",
        "collapsed": true
      },
      "execution_count": 43,
      "outputs": []
    },
    {
      "cell_type": "markdown",
      "source": [
        "## 1. Paste your pitch in the field below and press Enter\n"
      ],
      "metadata": {
        "id": "pphIhJ1n8uxd"
      }
    },
    {
      "cell_type": "code",
      "source": [
        "#@title Pitch {display-mode: \"form\"}\n",
        "raw_text = input() \n",
        "\n"
      ],
      "metadata": {
        "id": "uWFUmJfc3TZC",
        "colab": {
          "base_uri": "https://localhost:8080/"
        },
        "outputId": "8fbf8568-2253-4714-edd0-4c35784acc09"
      },
      "execution_count": 44,
      "outputs": [
        {
          "name": "stdout",
          "output_type": "stream",
          "text": [
            "I'm I'm in ASCII master, one student of schema as of next September I will enter an apprenticeship course in audit in order to obtain my Masters degree in audit and Finance and that the reason why I'm looking to join your company today. I am passionate about finance since my University studies, especially for audits which require very good communication, skill, rigor and adaptability. During my previous professional experience with Orange, I develop skills that are essential to the financial auditor. I worked in fact during two years in the Department where customer satisfaction is at the heart of Orange Co and through this I occur to ******** optional skill mainly in contact with customers. I really have the ambition to become a financial auditor since my discussion with my professor, an auditor and I really want to have a rewarding experience and I have quickly responsibilities and I think that I have a particular value for your company.\n"
          ]
        }
      ]
    },
    {
      "cell_type": "markdown",
      "source": [
        "If you want to change your pitch, just re-run all the cells from here by selecting the cell 'Pitch' and clicking 'Ctrl+F10' or in the menu item Runtime/Environnement d'exécution, choose Run Selection/Courir Après."
      ],
      "metadata": {
        "id": "HTm4ggWPG4If"
      }
    },
    {
      "cell_type": "code",
      "source": [
        "#@title Code {display-mode: \"form\"}\n",
        "\n",
        "# Do not change it.\n",
        "sentiment = TextBlob(raw_text).sentiment\n",
        "result_df = convert_to_df(sentiment)\n",
        "token_sentiments = analyze_token_sentiment(raw_text)"
      ],
      "metadata": {
        "id": "t1f1ML641ZxE"
      },
      "execution_count": 45,
      "outputs": []
    },
    {
      "cell_type": "markdown",
      "source": [
        "## 2. Pitch Wordcloud\n",
        "This wordcloud shows the main keywords of your pitch, excluding stopwords.\n",
        "\n",
        "Stopwords are those words that do not provide any useful information to decide in which category a text should be classified. This may be either because they don't have any meaning (prepositions, conjunctions, etc.) or because they are too frequent in the classification context."
      ],
      "metadata": {
        "id": "gmll300JK1qd"
      }
    },
    {
      "cell_type": "code",
      "source": [
        "#@title Wordcloud  {display-mode: \"form\"}\n",
        "\n",
        "# Generate a word cloud image\n",
        "wordcloud = WordCloud(stopwords=stopwords, background_color=\"white\").generate(raw_text)\n",
        "\n",
        "# Display the generated image:\n",
        "# the matplotlib way:\n",
        "plt.imshow(wordcloud, interpolation='bilinear')\n",
        "plt.axis(\"off\")\n",
        "plt.show()\n"
      ],
      "metadata": {
        "id": "G2ulm34yOv2j",
        "colab": {
          "base_uri": "https://localhost:8080/",
          "height": 199
        },
        "outputId": "e4c1aee5-4b08-4f4d-adf1-3e4526cc7f6e"
      },
      "execution_count": 46,
      "outputs": [
        {
          "output_type": "display_data",
          "data": {
            "image/png": "[encoded data removed]",
            "text/plain": [
              "<Figure size 432x288 with 1 Axes>"
            ]
          },
          "metadata": {
            "needs_background": "light"
          }
        }
      ]
    },
    {
      "cell_type": "markdown",
      "source": [
        "## 3. Your pitch's Sentiment Analysis \n",
        "\n",
        "---\n",
        "\n",
        "Sentiment analysis (also known as opinion mining or emotion AI) is the use of natural language processing, text analysis, computational linguistics, and biometrics to systematically identify, extract, quantify, and study affective states and subjective information. \n",
        "\n"
      ],
      "metadata": {
        "id": "Jsh8rioV9hzi"
      }
    },
    {
      "cell_type": "code",
      "source": [
        "#@title Your pitch's Sentiment Analysis {display-mode: \"form\"}\n",
        "chart = alt.Chart(result_df).mark_bar().encode(x='metric', y='value', color='metric')\n",
        "chart"
      ],
      "metadata": {
        "id": "T0HNj5wt5XJO",
        "colab": {
          "base_uri": "https://localhost:8080/",
          "height": 408
        },
        "outputId": "5bf54525-fbb4-4b49-d76e-8ebb6266d23d"
      },
      "execution_count": 47,
      "outputs": [
        {
          "output_type": "execute_result",
          "data": {
            "text/plain": [
              "alt.Chart(...)"
            ],
            "text/html": [
              "\n",
              "<div id=\"altair-viz-687b428887204fe3874869d59afd2696\"></div>\n",
              "<script type=\"text/javascript\">\n",
              "  var VEGA_DEBUG = (typeof VEGA_DEBUG == \"undefined\") ? {} : VEGA_DEBUG;\n",
              "  (function(spec, embedOpt){\n",
              "    let outputDiv = document.currentScript.previousElementSibling;\n",
              "    if (outputDiv.id !== \"altair-viz-687b428887204fe3874869d59afd2696\") {\n",
              "      outputDiv = document.getElementById(\"altair-viz-687b428887204fe3874869d59afd2696\");\n",
              "    }\n",
              "    const paths = {\n",
              "      \"vega\": \"https://cdn.jsdelivr.net/npm//vega@5?noext\",\n",
              "      \"vega-lib\": \"https://cdn.jsdelivr.net/npm//vega-lib?noext\",\n",
              "      \"vega-lite\": \"https://cdn.jsdelivr.net/npm//vega-lite@4.17.0?noext\",\n",
              "      \"vega-embed\": \"https://cdn.jsdelivr.net/npm//vega-embed@6?noext\",\n",
              "    };\n",
              "\n",
              "    function maybeLoadScript(lib, version) {\n",
              "      var key = `${lib.replace(\"-\", \"\")}_version`;\n",
              "      return (VEGA_DEBUG[key] == version) ?\n",
              "        Promise.resolve(paths[lib]) :\n",
              "        new Promise(function(resolve, reject) {\n",
              "          var s = document.createElement('script');\n",
              "          document.getElementsByTagName(\"head\")[0].appendChild(s);\n",
              "          s.async = true;\n",
              "          s.onload = () => {\n",
              "            VEGA_DEBUG[key] = version;\n",
              "            return resolve(paths[lib]);\n",
              "          };\n",
              "          s.onerror = () => reject(`Error loading script: ${paths[lib]}`);\n",
              "          s.src = paths[lib];\n",
              "        });\n",
              "    }\n",
              "\n",
              "    function showError(err) {\n",
              "      outputDiv.innerHTML = `<div class=\"error\" style=\"color:red;\">${err}</div>`;\n",
              "      throw err;\n",
              "    }\n",
              "\n",
              "    function displayChart(vegaEmbed) {\n",
              "      vegaEmbed(outputDiv, spec, embedOpt)\n",
              "        .catch(err => showError(`Javascript Error: ${err.message}<br>This usually means there's a typo in your chart specification. See the javascript console for the full traceback.`));\n",
              "    }\n",
              "\n",
              "    if(typeof define === \"function\" && define.amd) {\n",
              "      requirejs.config({paths});\n",
              "      require([\"vega-embed\"], displayChart, err => showError(`Error loading script: ${err.message}`));\n",
              "    } else {\n",
              "      maybeLoadScript(\"vega\", \"5\")\n",
              "        .then(() => maybeLoadScript(\"vega-lite\", \"4.17.0\"))\n",
              "        .then(() => maybeLoadScript(\"vega-embed\", \"6\"))\n",
              "        .catch(showError)\n",
              "        .then(() => displayChart(vegaEmbed));\n",
              "    }\n",
              "  })({\"config\": {\"view\": {\"continuousWidth\": 400, \"continuousHeight\": 300}}, \"data\": {\"name\": \"data-53fad3f6e63514649503ac22d59d736e\"}, \"mark\": \"bar\", \"encoding\": {\"color\": {\"field\": \"metric\", \"type\": \"nominal\"}, \"x\": {\"field\": \"metric\", \"type\": \"nominal\"}, \"y\": {\"field\": \"value\", \"type\": \"quantitative\"}}, \"$schema\": \"https://vega.github.io/schema/vega-lite/v4.17.0.json\", \"datasets\": {\"data-53fad3f6e63514649503ac22d59d736e\": [{\"metric\": \"polarity\", \"value\": 0.15733333333333333}, {\"metric\": \"subjectivity\", \"value\": 0.38422222222222224}]}}, {\"mode\": \"vega-lite\"});\n",
              "</script>"
            ]
          },
          "metadata": {},
          "execution_count": 47
        }
      ]
    },
    {
      "cell_type": "markdown",
      "source": [
        "The **Polarity** defines the phase of emotions expressed in the analyzed text. It ranges from -1 to 1 and goes like this: Very Positive, Positive, Neutral, Negative, Very Negative).\n",
        "\n",
        "**Subjectivity** quantifies the amount of personal opinion and factual information contained in the text. It has values from 0 to 1. A value closer to 0 shows the sentence is objective and closer to 1 means that the text contains personal opinion rather than factual information. For the sake of this exercise, we consider 0.5 as the cutoff score: >0.5 Very Subjective; <0.5 Little Subjective.\n",
        "\n",
        "\n",
        "\n",
        "\n",
        "\n"
      ],
      "metadata": {
        "id": "HOjB2CTBAZFK"
      }
    },
    {
      "cell_type": "code",
      "source": [
        "#@title Your pitch's Polarity {display-mode: \"form\"}\n",
        "\n",
        "# This code will be hidden when the notebook is loaded.\n",
        "\n",
        "if sentiment.polarity >= 0.5:\n",
        "  print(\"Very Positive polarity 😀. Congratulations, you have done a good job on your pitch!!\") \n",
        "elif sentiment.polarity > 0 < 0.5:\n",
        "  print(\"Positive polarity 😀. The polarity of your pitch is adequate, but you can always improve it with more positive words!\")\n",
        "elif sentiment == 0:\n",
        "  print(\"Neutral.polarity 😴. A little bit boring, maybe... You could improve your pitch by including some positive words on it.\")\n",
        "elif sentiment > -0.5 < 0:\n",
        "  print (\"Negative.polarity 😟. Your pitch is in a dangerous zone, because it is lacking some positive words on it. You could definitivelly improve it.\")\n",
        "elif sentiment <= -0.5:\n",
        "  print(\"Very Negative.polarity 😟. Your pitch is in a dangerous zone, because it is lacking some positive words on it. You should definitivelly improve it.\")\n"
      ],
      "metadata": {
        "id": "o5vJs6kg8oRW",
        "colab": {
          "base_uri": "https://localhost:8080/"
        },
        "outputId": "f9adbdeb-1273-44a8-d10f-b452176aef01"
      },
      "execution_count": 48,
      "outputs": [
        {
          "output_type": "stream",
          "name": "stdout",
          "text": [
            "Positive polarity 😀. The polarity of your pitch is adequate, but you can always improve it with more positive words!\n"
          ]
        }
      ]
    },
    {
      "cell_type": "markdown",
      "source": [
        "Consult the following list of Positive words to improve your pitch's polarity.\n",
        "\n",
        "https://www.dictionary.com/learn/word-lists/writing/bcyhlTa1BVU "
      ],
      "metadata": {
        "id": "Fx3CrlxBKzYx"
      }
    },
    {
      "cell_type": "code",
      "source": [
        "#@title Your pitch's Subjectivity {display-mode: \"form\"}\n",
        "\n",
        "# This code will be hidden when the notebook is loaded.\n",
        "if sentiment.subjectivity > 0.5:\n",
        "  print(\"Very subjective 😀. Very good work, you got the point!!\")\n",
        "else:\n",
        "  print(\"Little subjective 😴. As your pitch aims to sell yourself, some subjectivity is expected to get to know you better. Improve it by choosing some subjective words!\")"
      ],
      "metadata": {
        "id": "M2v9b0tr8oib",
        "colab": {
          "base_uri": "https://localhost:8080/"
        },
        "outputId": "5f957031-e4d8-43b3-8a8a-c297973a729d"
      },
      "execution_count": 49,
      "outputs": [
        {
          "output_type": "stream",
          "name": "stdout",
          "text": [
            "Little subjective 😴. As your pitch aims to sell yourself, some subjectivity is expected to get to know you better. Improve it by choosing some subjective words!\n"
          ]
        }
      ]
    },
    {
      "cell_type": "markdown",
      "source": [
        "Know more about Subjectivity in the articles below:\n",
        "\n",
        "- Recognizing Objective and Subjective Language - \n",
        "http://content.nroc.org/DevelopmentalEnglish/unit05/Foundations/recognizing-objective-and-subjective-language.html \n",
        "\n",
        "- Objective and Subjective Word List - \n",
        "https://www.in.gov/fssa/ddrs/files/Objective-and-Subjective-Word-List.pdf "
      ],
      "metadata": {
        "id": "pqq6UzlSK3ZT"
      }
    },
    {
      "cell_type": "markdown",
      "source": [
        "## 4. Your Words Polarity Analysis"
      ],
      "metadata": {
        "id": "tXmjMj-S6FBm"
      }
    },
    {
      "cell_type": "code",
      "source": [
        "#@title Positive Words {display-mode: \"form\"}\n",
        "\n",
        "token_sentiments['positives']\n"
      ],
      "metadata": {
        "id": "513spTvRNCJZ",
        "colab": {
          "base_uri": "https://localhost:8080/"
        },
        "outputId": "27731cd8-989d-45f4-9fd6-91a67d34c044"
      },
      "execution_count": 50,
      "outputs": [
        {
          "output_type": "execute_result",
          "data": {
            "text/plain": [
              "['join',\n",
              " 0.296,\n",
              " 'passionate',\n",
              " 0.5267,\n",
              " 'good',\n",
              " 0.4404,\n",
              " 'satisfaction',\n",
              " 0.4404,\n",
              " 'heart',\n",
              " 0.6369,\n",
              " 'rewarding',\n",
              " 0.5267,\n",
              " 'value',\n",
              " 0.34]"
            ]
          },
          "metadata": {},
          "execution_count": 50
        }
      ]
    },
    {
      "cell_type": "markdown",
      "source": [
        "Notice that positive words are your Soft Skills used in context."
      ],
      "metadata": {
        "id": "0udyLYiEL7aO"
      }
    },
    {
      "cell_type": "code",
      "source": [
        "#@title Negative Words {display-mode: \"form\"}\n",
        "\n",
        "token_sentiments['negatives']"
      ],
      "metadata": {
        "id": "msg5FziNFQmb",
        "colab": {
          "base_uri": "https://localhost:8080/"
        },
        "outputId": "5e0b88a5-756c-4fef-a21a-c129731066fd"
      },
      "execution_count": 51,
      "outputs": [
        {
          "output_type": "execute_result",
          "data": {
            "text/plain": [
              "[]"
            ]
          },
          "metadata": {},
          "execution_count": 51
        }
      ]
    },
    {
      "cell_type": "markdown",
      "source": [
        "Not all of the words on this list are truly negative in real life, but for the purposes of this exercise they will lower your score."
      ],
      "metadata": {
        "id": "A6eKXXfxMMr3"
      }
    },
    {
      "cell_type": "code",
      "source": [
        "#@title Neutral Words {display-mode: \"form\"}\n",
        "\n",
        "token_sentiments['neutral']"
      ],
      "metadata": {
        "id": "cukKDjyJNiLk",
        "colab": {
          "base_uri": "https://localhost:8080/"
        },
        "outputId": "7d8ef5ee-e99c-45b3-937d-ad2cd3f539e4"
      },
      "execution_count": 52,
      "outputs": [
        {
          "output_type": "execute_result",
          "data": {
            "text/plain": [
              "[\"I'm\",\n",
              " \"I'm\",\n",
              " 'in',\n",
              " 'ASCII',\n",
              " 'master,',\n",
              " 'one',\n",
              " 'student',\n",
              " 'of',\n",
              " 'schema',\n",
              " 'as',\n",
              " 'of',\n",
              " 'next',\n",
              " 'September',\n",
              " 'I',\n",
              " 'will',\n",
              " 'enter',\n",
              " 'an',\n",
              " 'apprenticeship',\n",
              " 'course',\n",
              " 'in',\n",
              " 'audit',\n",
              " 'in',\n",
              " 'order',\n",
              " 'to',\n",
              " 'obtain',\n",
              " 'my',\n",
              " 'Masters',\n",
              " 'degree',\n",
              " 'in',\n",
              " 'audit',\n",
              " 'and',\n",
              " 'Finance',\n",
              " 'and',\n",
              " 'that',\n",
              " 'the',\n",
              " 'reason',\n",
              " 'why',\n",
              " \"I'm\",\n",
              " 'looking',\n",
              " 'to',\n",
              " 'your',\n",
              " 'company',\n",
              " 'today.',\n",
              " 'I',\n",
              " 'am',\n",
              " 'about',\n",
              " 'finance',\n",
              " 'since',\n",
              " 'my',\n",
              " 'University',\n",
              " 'studies,',\n",
              " 'especially',\n",
              " 'for',\n",
              " 'audits',\n",
              " 'which',\n",
              " 'require',\n",
              " 'very',\n",
              " 'communication,',\n",
              " 'skill,',\n",
              " 'rigor',\n",
              " 'and',\n",
              " 'adaptability.',\n",
              " 'During',\n",
              " 'my',\n",
              " 'previous',\n",
              " 'professional',\n",
              " 'experience',\n",
              " 'with',\n",
              " 'Orange,',\n",
              " 'I',\n",
              " 'develop',\n",
              " 'skills',\n",
              " 'that',\n",
              " 'are',\n",
              " 'essential',\n",
              " 'to',\n",
              " 'the',\n",
              " 'financial',\n",
              " 'auditor.',\n",
              " 'I',\n",
              " 'worked',\n",
              " 'in',\n",
              " 'fact',\n",
              " 'during',\n",
              " 'two',\n",
              " 'years',\n",
              " 'in',\n",
              " 'the',\n",
              " 'Department',\n",
              " 'where',\n",
              " 'customer',\n",
              " 'is',\n",
              " 'at',\n",
              " 'the',\n",
              " 'of',\n",
              " 'Orange',\n",
              " 'Co',\n",
              " 'and',\n",
              " 'through',\n",
              " 'this',\n",
              " 'I',\n",
              " 'occur',\n",
              " 'to',\n",
              " '********',\n",
              " 'optional',\n",
              " 'skill',\n",
              " 'mainly',\n",
              " 'in',\n",
              " 'contact',\n",
              " 'with',\n",
              " 'customers.',\n",
              " 'I',\n",
              " 'really',\n",
              " 'have',\n",
              " 'the',\n",
              " 'ambition',\n",
              " 'to',\n",
              " 'become',\n",
              " 'a',\n",
              " 'financial',\n",
              " 'auditor',\n",
              " 'since',\n",
              " 'my',\n",
              " 'discussion',\n",
              " 'with',\n",
              " 'my',\n",
              " 'professor,',\n",
              " 'an',\n",
              " 'auditor',\n",
              " 'and',\n",
              " 'I',\n",
              " 'really',\n",
              " 'want',\n",
              " 'to',\n",
              " 'have',\n",
              " 'a',\n",
              " 'experience',\n",
              " 'and',\n",
              " 'I',\n",
              " 'have',\n",
              " 'quickly',\n",
              " 'responsibilities',\n",
              " 'and',\n",
              " 'I',\n",
              " 'think',\n",
              " 'that',\n",
              " 'I',\n",
              " 'have',\n",
              " 'a',\n",
              " 'particular',\n",
              " 'for',\n",
              " 'your',\n",
              " 'company.']"
            ]
          },
          "metadata": {},
          "execution_count": 52
        }
      ]
    },
    {
      "cell_type": "markdown",
      "source": [
        "Note that most of your technical skills will appear in this list. This means that while they are irrelevant to sentiment analysis, they will be relevant to other analyses, notably your adherence to the specific technical skills required by the job."
      ],
      "metadata": {
        "id": "DZP68XO9MlYy"
      }
    },
    {
      "cell_type": "code",
      "source": [
        "#@title Text Analyzer (NLP) {display-mode: \"form\"}\n",
        "\n",
        "\n",
        "data_table.enable_dataframe_formatter()\n",
        "\n",
        "tokens = text_analyzer(raw_text)\n",
        "tokens"
      ],
      "metadata": {
        "colab": {
          "base_uri": "https://localhost:8080/",
          "height": 613
        },
        "id": "WqDPYFxjOtLr",
        "outputId": "acd2f5d4-4f78-496e-dd45-16dd41615840"
      },
      "execution_count": 53,
      "outputs": [
        {
          "output_type": "execute_result",
          "data": {
            "application/vnd.google.colaboratory.module+javascript": "\n      import \"https://ssl.gstatic.com/colaboratory/data_table/81f25a011006ed3d/data_table.js\";\n\n      window.createDataTable({\n        data: [[{\n            'v': 0,\n            'f': \"0\",\n        },\n\"I\",\n\"X\",\n\"PRON\",\n\"PRP\",\n\"-PRON-\",\ntrue,\ntrue],\n [{\n            'v': 1,\n            'f': \"1\",\n        },\n\"'m\",\n\"'x\",\n\"AUX\",\n\"VBP\",\n\"be\",\nfalse,\ntrue],\n [{\n            'v': 2,\n            'f': \"2\",\n        },\n\"I\",\n\"X\",\n\"PRON\",\n\"PRP\",\n\"-PRON-\",\ntrue,\ntrue],\n [{\n            'v': 3,\n            'f': \"3\",\n        },\n\"'m\",\n\"'x\",\n\"AUX\",\n\"VBP\",\n\"be\",\nfalse,\ntrue],\n [{\n            'v': 4,\n            'f': \"4\",\n        },\n\"in\",\n\"xx\",\n\"ADP\",\n\"IN\",\n\"in\",\ntrue,\ntrue],\n [{\n            'v': 5,\n            'f': \"5\",\n        },\n\"ASCII\",\n\"XXXX\",\n\"PROPN\",\n\"NNP\",\n\"ASCII\",\ntrue,\nfalse],\n [{\n            'v': 6,\n            'f': \"6\",\n        },\n\"master\",\n\"xxxx\",\n\"NOUN\",\n\"NN\",\n\"master\",\ntrue,\nfalse],\n [{\n            'v': 7,\n            'f': \"7\",\n        },\n\",\",\n\",\",\n\"PUNCT\",\n\",\",\n\",\",\nfalse,\nfalse],\n [{\n            'v': 8,\n            'f': \"8\",\n        },\n\"one\",\n\"xxx\",\n\"NUM\",\n\"CD\",\n\"one\",\ntrue,\ntrue],\n [{\n            'v': 9,\n            'f': \"9\",\n        },\n\"student\",\n\"xxxx\",\n\"NOUN\",\n\"NN\",\n\"student\",\ntrue,\nfalse],\n [{\n            'v': 10,\n            'f': \"10\",\n        },\n\"of\",\n\"xx\",\n\"ADP\",\n\"IN\",\n\"of\",\ntrue,\ntrue],\n [{\n            'v': 11,\n            'f': \"11\",\n        },\n\"schema\",\n\"xxxx\",\n\"NOUN\",\n\"NN\",\n\"schema\",\ntrue,\nfalse],\n [{\n            'v': 12,\n            'f': \"12\",\n        },\n\"as\",\n\"xx\",\n\"SCONJ\",\n\"IN\",\n\"as\",\ntrue,\ntrue],\n [{\n            'v': 13,\n            'f': \"13\",\n        },\n\"of\",\n\"xx\",\n\"ADP\",\n\"IN\",\n\"of\",\ntrue,\ntrue],\n [{\n            'v': 14,\n            'f': \"14\",\n        },\n\"next\",\n\"xxxx\",\n\"ADJ\",\n\"JJ\",\n\"next\",\ntrue,\ntrue],\n [{\n            'v': 15,\n            'f': \"15\",\n        },\n\"September\",\n\"Xxxxx\",\n\"PROPN\",\n\"NNP\",\n\"September\",\ntrue,\nfalse],\n [{\n            'v': 16,\n            'f': \"16\",\n        },\n\"I\",\n\"X\",\n\"PRON\",\n\"PRP\",\n\"-PRON-\",\ntrue,\ntrue],\n [{\n            'v': 17,\n            'f': \"17\",\n        },\n\"will\",\n\"xxxx\",\n\"VERB\",\n\"MD\",\n\"will\",\ntrue,\ntrue],\n [{\n            'v': 18,\n            'f': \"18\",\n        },\n\"enter\",\n\"xxxx\",\n\"VERB\",\n\"VB\",\n\"enter\",\ntrue,\nfalse],\n [{\n            'v': 19,\n            'f': \"19\",\n        },\n\"an\",\n\"xx\",\n\"DET\",\n\"DT\",\n\"an\",\ntrue,\ntrue],\n [{\n            'v': 20,\n            'f': \"20\",\n        },\n\"apprenticeship\",\n\"xxxx\",\n\"NOUN\",\n\"NN\",\n\"apprenticeship\",\ntrue,\nfalse],\n [{\n            'v': 21,\n            'f': \"21\",\n        },\n\"course\",\n\"xxxx\",\n\"NOUN\",\n\"NN\",\n\"course\",\ntrue,\nfalse],\n [{\n            'v': 22,\n            'f': \"22\",\n        },\n\"in\",\n\"xx\",\n\"ADP\",\n\"IN\",\n\"in\",\ntrue,\ntrue],\n [{\n            'v': 23,\n            'f': \"23\",\n        },\n\"audit\",\n\"xxxx\",\n\"NOUN\",\n\"NN\",\n\"audit\",\ntrue,\nfalse],\n [{\n            'v': 24,\n            'f': \"24\",\n        },\n\"in\",\n\"xx\",\n\"ADP\",\n\"IN\",\n\"in\",\ntrue,\ntrue],\n [{\n            'v': 25,\n            'f': \"25\",\n        },\n\"order\",\n\"xxxx\",\n\"NOUN\",\n\"NN\",\n\"order\",\ntrue,\nfalse],\n [{\n            'v': 26,\n            'f': \"26\",\n        },\n\"to\",\n\"xx\",\n\"PART\",\n\"TO\",\n\"to\",\ntrue,\ntrue],\n [{\n            'v': 27,\n            'f': \"27\",\n        },\n\"obtain\",\n\"xxxx\",\n\"VERB\",\n\"VB\",\n\"obtain\",\ntrue,\nfalse],\n [{\n            'v': 28,\n            'f': \"28\",\n        },\n\"my\",\n\"xx\",\n\"DET\",\n\"PRP$\",\n\"-PRON-\",\ntrue,\ntrue],\n [{\n            'v': 29,\n            'f': \"29\",\n        },\n\"Masters\",\n\"Xxxxx\",\n\"PROPN\",\n\"NNP\",\n\"Masters\",\ntrue,\nfalse],\n [{\n            'v': 30,\n            'f': \"30\",\n        },\n\"degree\",\n\"xxxx\",\n\"NOUN\",\n\"NN\",\n\"degree\",\ntrue,\nfalse],\n [{\n            'v': 31,\n            'f': \"31\",\n        },\n\"in\",\n\"xx\",\n\"ADP\",\n\"IN\",\n\"in\",\ntrue,\ntrue],\n [{\n            'v': 32,\n            'f': \"32\",\n        },\n\"audit\",\n\"xxxx\",\n\"NOUN\",\n\"NN\",\n\"audit\",\ntrue,\nfalse],\n [{\n            'v': 33,\n            'f': \"33\",\n        },\n\"and\",\n\"xxx\",\n\"CCONJ\",\n\"CC\",\n\"and\",\ntrue,\ntrue],\n [{\n            'v': 34,\n            'f': \"34\",\n        },\n\"Finance\",\n\"Xxxxx\",\n\"PROPN\",\n\"NNP\",\n\"Finance\",\ntrue,\nfalse],\n [{\n            'v': 35,\n            'f': \"35\",\n        },\n\"and\",\n\"xxx\",\n\"CCONJ\",\n\"CC\",\n\"and\",\ntrue,\ntrue],\n [{\n            'v': 36,\n            'f': \"36\",\n        },\n\"that\",\n\"xxxx\",\n\"SCONJ\",\n\"IN\",\n\"that\",\ntrue,\ntrue],\n [{\n            'v': 37,\n            'f': \"37\",\n        },\n\"the\",\n\"xxx\",\n\"DET\",\n\"DT\",\n\"the\",\ntrue,\ntrue],\n [{\n            'v': 38,\n            'f': \"38\",\n        },\n\"reason\",\n\"xxxx\",\n\"NOUN\",\n\"NN\",\n\"reason\",\ntrue,\nfalse],\n [{\n            'v': 39,\n            'f': \"39\",\n        },\n\"why\",\n\"xxx\",\n\"ADV\",\n\"WRB\",\n\"why\",\ntrue,\ntrue],\n [{\n            'v': 40,\n            'f': \"40\",\n        },\n\"I\",\n\"X\",\n\"PRON\",\n\"PRP\",\n\"-PRON-\",\ntrue,\ntrue],\n [{\n            'v': 41,\n            'f': \"41\",\n        },\n\"'m\",\n\"'x\",\n\"AUX\",\n\"VBP\",\n\"be\",\nfalse,\ntrue],\n [{\n            'v': 42,\n            'f': \"42\",\n        },\n\"looking\",\n\"xxxx\",\n\"VERB\",\n\"VBG\",\n\"look\",\ntrue,\nfalse],\n [{\n            'v': 43,\n            'f': \"43\",\n        },\n\"to\",\n\"xx\",\n\"PART\",\n\"TO\",\n\"to\",\ntrue,\ntrue],\n [{\n            'v': 44,\n            'f': \"44\",\n        },\n\"join\",\n\"xxxx\",\n\"VERB\",\n\"VB\",\n\"join\",\ntrue,\nfalse],\n [{\n            'v': 45,\n            'f': \"45\",\n        },\n\"your\",\n\"xxxx\",\n\"DET\",\n\"PRP$\",\n\"-PRON-\",\ntrue,\ntrue],\n [{\n            'v': 46,\n            'f': \"46\",\n        },\n\"company\",\n\"xxxx\",\n\"NOUN\",\n\"NN\",\n\"company\",\ntrue,\nfalse],\n [{\n            'v': 47,\n            'f': \"47\",\n        },\n\"today\",\n\"xxxx\",\n\"NOUN\",\n\"NN\",\n\"today\",\ntrue,\nfalse],\n [{\n            'v': 48,\n            'f': \"48\",\n        },\n\".\",\n\".\",\n\"PUNCT\",\n\".\",\n\".\",\nfalse,\nfalse],\n [{\n            'v': 49,\n            'f': \"49\",\n        },\n\"I\",\n\"X\",\n\"PRON\",\n\"PRP\",\n\"-PRON-\",\ntrue,\ntrue],\n [{\n            'v': 50,\n            'f': \"50\",\n        },\n\"am\",\n\"xx\",\n\"AUX\",\n\"VBP\",\n\"be\",\ntrue,\ntrue],\n [{\n            'v': 51,\n            'f': \"51\",\n        },\n\"passionate\",\n\"xxxx\",\n\"ADJ\",\n\"JJ\",\n\"passionate\",\ntrue,\nfalse],\n [{\n            'v': 52,\n            'f': \"52\",\n        },\n\"about\",\n\"xxxx\",\n\"ADP\",\n\"IN\",\n\"about\",\ntrue,\ntrue],\n [{\n            'v': 53,\n            'f': \"53\",\n        },\n\"finance\",\n\"xxxx\",\n\"NOUN\",\n\"NN\",\n\"finance\",\ntrue,\nfalse],\n [{\n            'v': 54,\n            'f': \"54\",\n        },\n\"since\",\n\"xxxx\",\n\"SCONJ\",\n\"IN\",\n\"since\",\ntrue,\ntrue],\n [{\n            'v': 55,\n            'f': \"55\",\n        },\n\"my\",\n\"xx\",\n\"DET\",\n\"PRP$\",\n\"-PRON-\",\ntrue,\ntrue],\n [{\n            'v': 56,\n            'f': \"56\",\n        },\n\"University\",\n\"Xxxxx\",\n\"PROPN\",\n\"NNP\",\n\"University\",\ntrue,\nfalse],\n [{\n            'v': 57,\n            'f': \"57\",\n        },\n\"studies\",\n\"xxxx\",\n\"NOUN\",\n\"NNS\",\n\"study\",\ntrue,\nfalse],\n [{\n            'v': 58,\n            'f': \"58\",\n        },\n\",\",\n\",\",\n\"PUNCT\",\n\",\",\n\",\",\nfalse,\nfalse],\n [{\n            'v': 59,\n            'f': \"59\",\n        },\n\"especially\",\n\"xxxx\",\n\"ADV\",\n\"RB\",\n\"especially\",\ntrue,\nfalse],\n [{\n            'v': 60,\n            'f': \"60\",\n        },\n\"for\",\n\"xxx\",\n\"ADP\",\n\"IN\",\n\"for\",\ntrue,\ntrue],\n [{\n            'v': 61,\n            'f': \"61\",\n        },\n\"audits\",\n\"xxxx\",\n\"NOUN\",\n\"NN\",\n\"audits\",\ntrue,\nfalse],\n [{\n            'v': 62,\n            'f': \"62\",\n        },\n\"which\",\n\"xxxx\",\n\"DET\",\n\"WDT\",\n\"which\",\ntrue,\ntrue],\n [{\n            'v': 63,\n            'f': \"63\",\n        },\n\"require\",\n\"xxxx\",\n\"VERB\",\n\"VBP\",\n\"require\",\ntrue,\nfalse],\n [{\n            'v': 64,\n            'f': \"64\",\n        },\n\"very\",\n\"xxxx\",\n\"ADV\",\n\"RB\",\n\"very\",\ntrue,\ntrue],\n [{\n            'v': 65,\n            'f': \"65\",\n        },\n\"good\",\n\"xxxx\",\n\"ADJ\",\n\"JJ\",\n\"good\",\ntrue,\nfalse],\n [{\n            'v': 66,\n            'f': \"66\",\n        },\n\"communication\",\n\"xxxx\",\n\"NOUN\",\n\"NN\",\n\"communication\",\ntrue,\nfalse],\n [{\n            'v': 67,\n            'f': \"67\",\n        },\n\",\",\n\",\",\n\"PUNCT\",\n\",\",\n\",\",\nfalse,\nfalse],\n [{\n            'v': 68,\n            'f': \"68\",\n        },\n\"skill\",\n\"xxxx\",\n\"NOUN\",\n\"NN\",\n\"skill\",\ntrue,\nfalse],\n [{\n            'v': 69,\n            'f': \"69\",\n        },\n\",\",\n\",\",\n\"PUNCT\",\n\",\",\n\",\",\nfalse,\nfalse],\n [{\n            'v': 70,\n            'f': \"70\",\n        },\n\"rigor\",\n\"xxxx\",\n\"NOUN\",\n\"NN\",\n\"rigor\",\ntrue,\nfalse],\n [{\n            'v': 71,\n            'f': \"71\",\n        },\n\"and\",\n\"xxx\",\n\"CCONJ\",\n\"CC\",\n\"and\",\ntrue,\ntrue],\n [{\n            'v': 72,\n            'f': \"72\",\n        },\n\"adaptability\",\n\"xxxx\",\n\"NOUN\",\n\"NN\",\n\"adaptability\",\ntrue,\nfalse],\n [{\n            'v': 73,\n            'f': \"73\",\n        },\n\".\",\n\".\",\n\"PUNCT\",\n\".\",\n\".\",\nfalse,\nfalse],\n [{\n            'v': 74,\n            'f': \"74\",\n        },\n\"During\",\n\"Xxxxx\",\n\"ADP\",\n\"IN\",\n\"during\",\ntrue,\ntrue],\n [{\n            'v': 75,\n            'f': \"75\",\n        },\n\"my\",\n\"xx\",\n\"DET\",\n\"PRP$\",\n\"-PRON-\",\ntrue,\ntrue],\n [{\n            'v': 76,\n            'f': \"76\",\n        },\n\"previous\",\n\"xxxx\",\n\"ADJ\",\n\"JJ\",\n\"previous\",\ntrue,\nfalse],\n [{\n            'v': 77,\n            'f': \"77\",\n        },\n\"professional\",\n\"xxxx\",\n\"ADJ\",\n\"JJ\",\n\"professional\",\ntrue,\nfalse],\n [{\n            'v': 78,\n            'f': \"78\",\n        },\n\"experience\",\n\"xxxx\",\n\"NOUN\",\n\"NN\",\n\"experience\",\ntrue,\nfalse],\n [{\n            'v': 79,\n            'f': \"79\",\n        },\n\"with\",\n\"xxxx\",\n\"ADP\",\n\"IN\",\n\"with\",\ntrue,\ntrue],\n [{\n            'v': 80,\n            'f': \"80\",\n        },\n\"Orange\",\n\"Xxxxx\",\n\"PROPN\",\n\"NNP\",\n\"Orange\",\ntrue,\nfalse],\n [{\n            'v': 81,\n            'f': \"81\",\n        },\n\",\",\n\",\",\n\"PUNCT\",\n\",\",\n\",\",\nfalse,\nfalse],\n [{\n            'v': 82,\n            'f': \"82\",\n        },\n\"I\",\n\"X\",\n\"PRON\",\n\"PRP\",\n\"-PRON-\",\ntrue,\ntrue],\n [{\n            'v': 83,\n            'f': \"83\",\n        },\n\"develop\",\n\"xxxx\",\n\"VERB\",\n\"VBP\",\n\"develop\",\ntrue,\nfalse],\n [{\n            'v': 84,\n            'f': \"84\",\n        },\n\"skills\",\n\"xxxx\",\n\"NOUN\",\n\"NNS\",\n\"skill\",\ntrue,\nfalse],\n [{\n            'v': 85,\n            'f': \"85\",\n        },\n\"that\",\n\"xxxx\",\n\"DET\",\n\"WDT\",\n\"that\",\ntrue,\ntrue],\n [{\n            'v': 86,\n            'f': \"86\",\n        },\n\"are\",\n\"xxx\",\n\"AUX\",\n\"VBP\",\n\"be\",\ntrue,\ntrue],\n [{\n            'v': 87,\n            'f': \"87\",\n        },\n\"essential\",\n\"xxxx\",\n\"ADJ\",\n\"JJ\",\n\"essential\",\ntrue,\nfalse],\n [{\n            'v': 88,\n            'f': \"88\",\n        },\n\"to\",\n\"xx\",\n\"ADP\",\n\"IN\",\n\"to\",\ntrue,\ntrue],\n [{\n            'v': 89,\n            'f': \"89\",\n        },\n\"the\",\n\"xxx\",\n\"DET\",\n\"DT\",\n\"the\",\ntrue,\ntrue],\n [{\n            'v': 90,\n            'f': \"90\",\n        },\n\"financial\",\n\"xxxx\",\n\"ADJ\",\n\"JJ\",\n\"financial\",\ntrue,\nfalse],\n [{\n            'v': 91,\n            'f': \"91\",\n        },\n\"auditor\",\n\"xxxx\",\n\"NOUN\",\n\"NN\",\n\"auditor\",\ntrue,\nfalse],\n [{\n            'v': 92,\n            'f': \"92\",\n        },\n\".\",\n\".\",\n\"PUNCT\",\n\".\",\n\".\",\nfalse,\nfalse],\n [{\n            'v': 93,\n            'f': \"93\",\n        },\n\"I\",\n\"X\",\n\"PRON\",\n\"PRP\",\n\"-PRON-\",\ntrue,\ntrue],\n [{\n            'v': 94,\n            'f': \"94\",\n        },\n\"worked\",\n\"xxxx\",\n\"VERB\",\n\"VBD\",\n\"work\",\ntrue,\nfalse],\n [{\n            'v': 95,\n            'f': \"95\",\n        },\n\"in\",\n\"xx\",\n\"ADP\",\n\"IN\",\n\"in\",\ntrue,\ntrue],\n [{\n            'v': 96,\n            'f': \"96\",\n        },\n\"fact\",\n\"xxxx\",\n\"NOUN\",\n\"NN\",\n\"fact\",\ntrue,\nfalse],\n [{\n            'v': 97,\n            'f': \"97\",\n        },\n\"during\",\n\"xxxx\",\n\"ADP\",\n\"IN\",\n\"during\",\ntrue,\ntrue],\n [{\n            'v': 98,\n            'f': \"98\",\n        },\n\"two\",\n\"xxx\",\n\"NUM\",\n\"CD\",\n\"two\",\ntrue,\ntrue],\n [{\n            'v': 99,\n            'f': \"99\",\n        },\n\"years\",\n\"xxxx\",\n\"NOUN\",\n\"NNS\",\n\"year\",\ntrue,\nfalse],\n [{\n            'v': 100,\n            'f': \"100\",\n        },\n\"in\",\n\"xx\",\n\"ADP\",\n\"IN\",\n\"in\",\ntrue,\ntrue],\n [{\n            'v': 101,\n            'f': \"101\",\n        },\n\"the\",\n\"xxx\",\n\"DET\",\n\"DT\",\n\"the\",\ntrue,\ntrue],\n [{\n            'v': 102,\n            'f': \"102\",\n        },\n\"Department\",\n\"Xxxxx\",\n\"PROPN\",\n\"NNP\",\n\"Department\",\ntrue,\nfalse],\n [{\n            'v': 103,\n            'f': \"103\",\n        },\n\"where\",\n\"xxxx\",\n\"ADV\",\n\"WRB\",\n\"where\",\ntrue,\ntrue],\n [{\n            'v': 104,\n            'f': \"104\",\n        },\n\"customer\",\n\"xxxx\",\n\"NOUN\",\n\"NN\",\n\"customer\",\ntrue,\nfalse],\n [{\n            'v': 105,\n            'f': \"105\",\n        },\n\"satisfaction\",\n\"xxxx\",\n\"NOUN\",\n\"NN\",\n\"satisfaction\",\ntrue,\nfalse],\n [{\n            'v': 106,\n            'f': \"106\",\n        },\n\"is\",\n\"xx\",\n\"AUX\",\n\"VBZ\",\n\"be\",\ntrue,\ntrue],\n [{\n            'v': 107,\n            'f': \"107\",\n        },\n\"at\",\n\"xx\",\n\"ADP\",\n\"IN\",\n\"at\",\ntrue,\ntrue],\n [{\n            'v': 108,\n            'f': \"108\",\n        },\n\"the\",\n\"xxx\",\n\"DET\",\n\"DT\",\n\"the\",\ntrue,\ntrue],\n [{\n            'v': 109,\n            'f': \"109\",\n        },\n\"heart\",\n\"xxxx\",\n\"NOUN\",\n\"NN\",\n\"heart\",\ntrue,\nfalse],\n [{\n            'v': 110,\n            'f': \"110\",\n        },\n\"of\",\n\"xx\",\n\"ADP\",\n\"IN\",\n\"of\",\ntrue,\ntrue],\n [{\n            'v': 111,\n            'f': \"111\",\n        },\n\"Orange\",\n\"Xxxxx\",\n\"PROPN\",\n\"NNP\",\n\"Orange\",\ntrue,\nfalse],\n [{\n            'v': 112,\n            'f': \"112\",\n        },\n\"Co\",\n\"Xx\",\n\"PROPN\",\n\"NNP\",\n\"Co\",\ntrue,\nfalse],\n [{\n            'v': 113,\n            'f': \"113\",\n        },\n\"and\",\n\"xxx\",\n\"CCONJ\",\n\"CC\",\n\"and\",\ntrue,\ntrue],\n [{\n            'v': 114,\n            'f': \"114\",\n        },\n\"through\",\n\"xxxx\",\n\"ADP\",\n\"IN\",\n\"through\",\ntrue,\ntrue],\n [{\n            'v': 115,\n            'f': \"115\",\n        },\n\"this\",\n\"xxxx\",\n\"DET\",\n\"DT\",\n\"this\",\ntrue,\ntrue],\n [{\n            'v': 116,\n            'f': \"116\",\n        },\n\"I\",\n\"X\",\n\"PRON\",\n\"PRP\",\n\"-PRON-\",\ntrue,\ntrue],\n [{\n            'v': 117,\n            'f': \"117\",\n        },\n\"occur\",\n\"xxxx\",\n\"VERB\",\n\"VBP\",\n\"occur\",\ntrue,\nfalse],\n [{\n            'v': 118,\n            'f': \"118\",\n        },\n\"to\",\n\"xx\",\n\"PART\",\n\"TO\",\n\"to\",\ntrue,\ntrue],\n [{\n            'v': 119,\n            'f': \"119\",\n        },\n\"*\",\n\"*\",\n\"PUNCT\",\n\"NFP\",\n\"*\",\nfalse,\nfalse],\n [{\n            'v': 120,\n            'f': \"120\",\n        },\n\"*\",\n\"*\",\n\"PUNCT\",\n\"NFP\",\n\"*\",\nfalse,\nfalse],\n [{\n            'v': 121,\n            'f': \"121\",\n        },\n\"*\",\n\"*\",\n\"PUNCT\",\n\"NFP\",\n\"*\",\nfalse,\nfalse],\n [{\n            'v': 122,\n            'f': \"122\",\n        },\n\"*\",\n\"*\",\n\"PUNCT\",\n\"NFP\",\n\"*\",\nfalse,\nfalse],\n [{\n            'v': 123,\n            'f': \"123\",\n        },\n\"*\",\n\"*\",\n\"PUNCT\",\n\"NFP\",\n\"*\",\nfalse,\nfalse],\n [{\n            'v': 124,\n            'f': \"124\",\n        },\n\"*\",\n\"*\",\n\"PUNCT\",\n\"NFP\",\n\"*\",\nfalse,\nfalse],\n [{\n            'v': 125,\n            'f': \"125\",\n        },\n\"*\",\n\"*\",\n\"PUNCT\",\n\"NFP\",\n\"*\",\nfalse,\nfalse],\n [{\n            'v': 126,\n            'f': \"126\",\n        },\n\"*\",\n\"*\",\n\"PUNCT\",\n\"NFP\",\n\"*\",\nfalse,\nfalse],\n [{\n            'v': 127,\n            'f': \"127\",\n        },\n\"optional\",\n\"xxxx\",\n\"ADJ\",\n\"JJ\",\n\"optional\",\ntrue,\nfalse],\n [{\n            'v': 128,\n            'f': \"128\",\n        },\n\"skill\",\n\"xxxx\",\n\"NOUN\",\n\"NN\",\n\"skill\",\ntrue,\nfalse],\n [{\n            'v': 129,\n            'f': \"129\",\n        },\n\"mainly\",\n\"xxxx\",\n\"ADV\",\n\"RB\",\n\"mainly\",\ntrue,\nfalse],\n [{\n            'v': 130,\n            'f': \"130\",\n        },\n\"in\",\n\"xx\",\n\"ADP\",\n\"IN\",\n\"in\",\ntrue,\ntrue],\n [{\n            'v': 131,\n            'f': \"131\",\n        },\n\"contact\",\n\"xxxx\",\n\"NOUN\",\n\"NN\",\n\"contact\",\ntrue,\nfalse],\n [{\n            'v': 132,\n            'f': \"132\",\n        },\n\"with\",\n\"xxxx\",\n\"ADP\",\n\"IN\",\n\"with\",\ntrue,\ntrue],\n [{\n            'v': 133,\n            'f': \"133\",\n        },\n\"customers\",\n\"xxxx\",\n\"NOUN\",\n\"NNS\",\n\"customer\",\ntrue,\nfalse],\n [{\n            'v': 134,\n            'f': \"134\",\n        },\n\".\",\n\".\",\n\"PUNCT\",\n\".\",\n\".\",\nfalse,\nfalse],\n [{\n            'v': 135,\n            'f': \"135\",\n        },\n\"I\",\n\"X\",\n\"PRON\",\n\"PRP\",\n\"-PRON-\",\ntrue,\ntrue],\n [{\n            'v': 136,\n            'f': \"136\",\n        },\n\"really\",\n\"xxxx\",\n\"ADV\",\n\"RB\",\n\"really\",\ntrue,\ntrue],\n [{\n            'v': 137,\n            'f': \"137\",\n        },\n\"have\",\n\"xxxx\",\n\"AUX\",\n\"VBP\",\n\"have\",\ntrue,\ntrue],\n [{\n            'v': 138,\n            'f': \"138\",\n        },\n\"the\",\n\"xxx\",\n\"DET\",\n\"DT\",\n\"the\",\ntrue,\ntrue],\n [{\n            'v': 139,\n            'f': \"139\",\n        },\n\"ambition\",\n\"xxxx\",\n\"NOUN\",\n\"NN\",\n\"ambition\",\ntrue,\nfalse],\n [{\n            'v': 140,\n            'f': \"140\",\n        },\n\"to\",\n\"xx\",\n\"PART\",\n\"TO\",\n\"to\",\ntrue,\ntrue],\n [{\n            'v': 141,\n            'f': \"141\",\n        },\n\"become\",\n\"xxxx\",\n\"VERB\",\n\"VB\",\n\"become\",\ntrue,\ntrue],\n [{\n            'v': 142,\n            'f': \"142\",\n        },\n\"a\",\n\"x\",\n\"DET\",\n\"DT\",\n\"a\",\ntrue,\ntrue],\n [{\n            'v': 143,\n            'f': \"143\",\n        },\n\"financial\",\n\"xxxx\",\n\"ADJ\",\n\"JJ\",\n\"financial\",\ntrue,\nfalse],\n [{\n            'v': 144,\n            'f': \"144\",\n        },\n\"auditor\",\n\"xxxx\",\n\"NOUN\",\n\"NN\",\n\"auditor\",\ntrue,\nfalse],\n [{\n            'v': 145,\n            'f': \"145\",\n        },\n\"since\",\n\"xxxx\",\n\"SCONJ\",\n\"IN\",\n\"since\",\ntrue,\ntrue],\n [{\n            'v': 146,\n            'f': \"146\",\n        },\n\"my\",\n\"xx\",\n\"DET\",\n\"PRP$\",\n\"-PRON-\",\ntrue,\ntrue],\n [{\n            'v': 147,\n            'f': \"147\",\n        },\n\"discussion\",\n\"xxxx\",\n\"NOUN\",\n\"NN\",\n\"discussion\",\ntrue,\nfalse],\n [{\n            'v': 148,\n            'f': \"148\",\n        },\n\"with\",\n\"xxxx\",\n\"ADP\",\n\"IN\",\n\"with\",\ntrue,\ntrue],\n [{\n            'v': 149,\n            'f': \"149\",\n        },\n\"my\",\n\"xx\",\n\"DET\",\n\"PRP$\",\n\"-PRON-\",\ntrue,\ntrue],\n [{\n            'v': 150,\n            'f': \"150\",\n        },\n\"professor\",\n\"xxxx\",\n\"NOUN\",\n\"NN\",\n\"professor\",\ntrue,\nfalse],\n [{\n            'v': 151,\n            'f': \"151\",\n        },\n\",\",\n\",\",\n\"PUNCT\",\n\",\",\n\",\",\nfalse,\nfalse],\n [{\n            'v': 152,\n            'f': \"152\",\n        },\n\"an\",\n\"xx\",\n\"DET\",\n\"DT\",\n\"an\",\ntrue,\ntrue],\n [{\n            'v': 153,\n            'f': \"153\",\n        },\n\"auditor\",\n\"xxxx\",\n\"NOUN\",\n\"NN\",\n\"auditor\",\ntrue,\nfalse],\n [{\n            'v': 154,\n            'f': \"154\",\n        },\n\"and\",\n\"xxx\",\n\"CCONJ\",\n\"CC\",\n\"and\",\ntrue,\ntrue],\n [{\n            'v': 155,\n            'f': \"155\",\n        },\n\"I\",\n\"X\",\n\"PRON\",\n\"PRP\",\n\"-PRON-\",\ntrue,\ntrue],\n [{\n            'v': 156,\n            'f': \"156\",\n        },\n\"really\",\n\"xxxx\",\n\"ADV\",\n\"RB\",\n\"really\",\ntrue,\ntrue],\n [{\n            'v': 157,\n            'f': \"157\",\n        },\n\"want\",\n\"xxxx\",\n\"VERB\",\n\"VBP\",\n\"want\",\ntrue,\nfalse],\n [{\n            'v': 158,\n            'f': \"158\",\n        },\n\"to\",\n\"xx\",\n\"PART\",\n\"TO\",\n\"to\",\ntrue,\ntrue],\n [{\n            'v': 159,\n            'f': \"159\",\n        },\n\"have\",\n\"xxxx\",\n\"AUX\",\n\"VB\",\n\"have\",\ntrue,\ntrue],\n [{\n            'v': 160,\n            'f': \"160\",\n        },\n\"a\",\n\"x\",\n\"DET\",\n\"DT\",\n\"a\",\ntrue,\ntrue],\n [{\n            'v': 161,\n            'f': \"161\",\n        },\n\"rewarding\",\n\"xxxx\",\n\"ADJ\",\n\"JJ\",\n\"rewarding\",\ntrue,\nfalse],\n [{\n            'v': 162,\n            'f': \"162\",\n        },\n\"experience\",\n\"xxxx\",\n\"NOUN\",\n\"NN\",\n\"experience\",\ntrue,\nfalse],\n [{\n            'v': 163,\n            'f': \"163\",\n        },\n\"and\",\n\"xxx\",\n\"CCONJ\",\n\"CC\",\n\"and\",\ntrue,\ntrue],\n [{\n            'v': 164,\n            'f': \"164\",\n        },\n\"I\",\n\"X\",\n\"PRON\",\n\"PRP\",\n\"-PRON-\",\ntrue,\ntrue],\n [{\n            'v': 165,\n            'f': \"165\",\n        },\n\"have\",\n\"xxxx\",\n\"AUX\",\n\"VBP\",\n\"have\",\ntrue,\ntrue],\n [{\n            'v': 166,\n            'f': \"166\",\n        },\n\"quickly\",\n\"xxxx\",\n\"ADV\",\n\"RB\",\n\"quickly\",\ntrue,\nfalse],\n [{\n            'v': 167,\n            'f': \"167\",\n        },\n\"responsibilities\",\n\"xxxx\",\n\"NOUN\",\n\"NNS\",\n\"responsibility\",\ntrue,\nfalse],\n [{\n            'v': 168,\n            'f': \"168\",\n        },\n\"and\",\n\"xxx\",\n\"CCONJ\",\n\"CC\",\n\"and\",\ntrue,\ntrue],\n [{\n            'v': 169,\n            'f': \"169\",\n        },\n\"I\",\n\"X\",\n\"PRON\",\n\"PRP\",\n\"-PRON-\",\ntrue,\ntrue],\n [{\n            'v': 170,\n            'f': \"170\",\n        },\n\"think\",\n\"xxxx\",\n\"VERB\",\n\"VBP\",\n\"think\",\ntrue,\nfalse],\n [{\n            'v': 171,\n            'f': \"171\",\n        },\n\"that\",\n\"xxxx\",\n\"SCONJ\",\n\"IN\",\n\"that\",\ntrue,\ntrue],\n [{\n            'v': 172,\n            'f': \"172\",\n        },\n\"I\",\n\"X\",\n\"PRON\",\n\"PRP\",\n\"-PRON-\",\ntrue,\ntrue],\n [{\n            'v': 173,\n            'f': \"173\",\n        },\n\"have\",\n\"xxxx\",\n\"AUX\",\n\"VBP\",\n\"have\",\ntrue,\ntrue],\n [{\n            'v': 174,\n            'f': \"174\",\n        },\n\"a\",\n\"x\",\n\"DET\",\n\"DT\",\n\"a\",\ntrue,\ntrue],\n [{\n            'v': 175,\n            'f': \"175\",\n        },\n\"particular\",\n\"xxxx\",\n\"ADJ\",\n\"JJ\",\n\"particular\",\ntrue,\nfalse],\n [{\n            'v': 176,\n            'f': \"176\",\n        },\n\"value\",\n\"xxxx\",\n\"NOUN\",\n\"NN\",\n\"value\",\ntrue,\nfalse],\n [{\n            'v': 177,\n            'f': \"177\",\n        },\n\"for\",\n\"xxx\",\n\"ADP\",\n\"IN\",\n\"for\",\ntrue,\ntrue],\n [{\n            'v': 178,\n            'f': \"178\",\n        },\n\"your\",\n\"xxxx\",\n\"DET\",\n\"PRP$\",\n\"-PRON-\",\ntrue,\ntrue],\n [{\n            'v': 179,\n            'f': \"179\",\n        },\n\"company\",\n\"xxxx\",\n\"NOUN\",\n\"NN\",\n\"company\",\ntrue,\nfalse],\n [{\n            'v': 180,\n            'f': \"180\",\n        },\n\".\",\n\".\",\n\"PUNCT\",\n\".\",\n\".\",\nfalse,\nfalse]],\n        columns: [[\"number\", \"index\"], [\"string\", \"Token\"], [\"string\", \"Shape\"], [\"string\", \"PoS\"], [\"string\", \"Tag\"], [\"string\", \"Lemma\"], [\"string\", \"IsAlpha\"], [\"string\", \"IsStopWords\"]],\n        columnOptions: [{\"width\": \"1px\", \"className\": \"index_column\"}],\n        rowsPerPage: 25,\n        helpUrl: \"https://colab.research.google.com/notebooks/data_table.ipynb\",\n        suppressOutputScrolling: true,\n        minimumWidth: undefined,\n      });\n    ",
            "text/html": [
              "\n",
              "  <div id=\"df-446ac309-fe24-4f2d-b86b-753165d89f42\">\n",
              "    <div class=\"colab-df-container\">\n",
              "      <div>\n",
              "<style scoped>\n",
              "    .dataframe tbody tr th:only-of-type {\n",
              "        vertical-align: middle;\n",
              "    }\n",
              "\n",
              "    .dataframe tbody tr th {\n",
              "        vertical-align: top;\n",
              "    }\n",
              "\n",
              "    .dataframe thead th {\n",
              "        text-align: right;\n",
              "    }\n",
              "</style>\n",
              "<table border=\"1\" class=\"dataframe\">\n",
              "  <thead>\n",
              "    <tr style=\"text-align: right;\">\n",
              "      <th></th>\n",
              "      <th>Token</th>\n",
              "      <th>Shape</th>\n",
              "      <th>PoS</th>\n",
              "      <th>Tag</th>\n",
              "      <th>Lemma</th>\n",
              "      <th>IsAlpha</th>\n",
              "      <th>IsStopWords</th>\n",
              "    </tr>\n",
              "  </thead>\n",
              "  <tbody>\n",
              "    <tr>\n",
              "      <th>0</th>\n",
              "      <td>I</td>\n",
              "      <td>X</td>\n",
              "      <td>PRON</td>\n",
              "      <td>PRP</td>\n",
              "      <td>-PRON-</td>\n",
              "      <td>True</td>\n",
              "      <td>True</td>\n",
              "    </tr>\n",
              "    <tr>\n",
              "      <th>1</th>\n",
              "      <td>'m</td>\n",
              "      <td>'x</td>\n",
              "      <td>AUX</td>\n",
              "      <td>VBP</td>\n",
              "      <td>be</td>\n",
              "      <td>False</td>\n",
              "      <td>True</td>\n",
              "    </tr>\n",
              "    <tr>\n",
              "      <th>2</th>\n",
              "      <td>I</td>\n",
              "      <td>X</td>\n",
              "      <td>PRON</td>\n",
              "      <td>PRP</td>\n",
              "      <td>-PRON-</td>\n",
              "      <td>True</td>\n",
              "      <td>True</td>\n",
              "    </tr>\n",
              "    <tr>\n",
              "      <th>3</th>\n",
              "      <td>'m</td>\n",
              "      <td>'x</td>\n",
              "      <td>AUX</td>\n",
              "      <td>VBP</td>\n",
              "      <td>be</td>\n",
              "      <td>False</td>\n",
              "      <td>True</td>\n",
              "    </tr>\n",
              "    <tr>\n",
              "      <th>4</th>\n",
              "      <td>in</td>\n",
              "      <td>xx</td>\n",
              "      <td>ADP</td>\n",
              "      <td>IN</td>\n",
              "      <td>in</td>\n",
              "      <td>True</td>\n",
              "      <td>True</td>\n",
              "    </tr>\n",
              "    <tr>\n",
              "      <th>...</th>\n",
              "      <td>...</td>\n",
              "      <td>...</td>\n",
              "      <td>...</td>\n",
              "      <td>...</td>\n",
              "      <td>...</td>\n",
              "      <td>...</td>\n",
              "      <td>...</td>\n",
              "    </tr>\n",
              "    <tr>\n",
              "      <th>176</th>\n",
              "      <td>value</td>\n",
              "      <td>xxxx</td>\n",
              "      <td>NOUN</td>\n",
              "      <td>NN</td>\n",
              "      <td>value</td>\n",
              "      <td>True</td>\n",
              "      <td>False</td>\n",
              "    </tr>\n",
              "    <tr>\n",
              "      <th>177</th>\n",
              "      <td>for</td>\n",
              "      <td>xxx</td>\n",
              "      <td>ADP</td>\n",
              "      <td>IN</td>\n",
              "      <td>for</td>\n",
              "      <td>True</td>\n",
              "      <td>True</td>\n",
              "    </tr>\n",
              "    <tr>\n",
              "      <th>178</th>\n",
              "      <td>your</td>\n",
              "      <td>xxxx</td>\n",
              "      <td>DET</td>\n",
              "      <td>PRP$</td>\n",
              "      <td>-PRON-</td>\n",
              "      <td>True</td>\n",
              "      <td>True</td>\n",
              "    </tr>\n",
              "    <tr>\n",
              "      <th>179</th>\n",
              "      <td>company</td>\n",
              "      <td>xxxx</td>\n",
              "      <td>NOUN</td>\n",
              "      <td>NN</td>\n",
              "      <td>company</td>\n",
              "      <td>True</td>\n",
              "      <td>False</td>\n",
              "    </tr>\n",
              "    <tr>\n",
              "      <th>180</th>\n",
              "      <td>.</td>\n",
              "      <td>.</td>\n",
              "      <td>PUNCT</td>\n",
              "      <td>.</td>\n",
              "      <td>.</td>\n",
              "      <td>False</td>\n",
              "      <td>False</td>\n",
              "    </tr>\n",
              "  </tbody>\n",
              "</table>\n",
              "<p>181 rows × 7 columns</p>\n",
              "</div>\n",
              "      <button class=\"colab-df-convert\" onclick=\"convertToInteractive('df-446ac309-fe24-4f2d-b86b-753165d89f42')\"\n",
              "              title=\"Convert this dataframe to an interactive table.\"\n",
              "              style=\"display:none;\">\n",
              "        \n",
              "  <svg xmlns=\"http://www.w3.org/2000/svg\" height=\"24px\"viewBox=\"0 0 24 24\"\n",
              "       width=\"24px\">\n",
              "    <path d=\"M0 0h24v24H0V0z\" fill=\"none\"/>\n",
              "    <path d=\"M18.56 5.44l.94 2.06.94-2.06 2.06-.94-2.06-.94-.94-2.06-.94 2.06-2.06.94zm-11 1L8.5 8.5l.94-2.06 2.06-.94-2.06-.94L8.5 2.5l-.94 2.06-2.06.94zm10 10l.94 2.06.94-2.06 2.06-.94-2.06-.94-.94-2.06-.94 2.06-2.06.94z\"/><path d=\"M17.41 7.96l-1.37-1.37c-.4-.4-.92-.59-1.43-.59-.52 0-1.04.2-1.43.59L10.3 9.45l-7.72 7.72c-.78.78-.78 2.05 0 2.83L4 21.41c.39.39.9.59 1.41.59.51 0 1.02-.2 1.41-.59l7.78-7.78 2.81-2.81c.8-.78.8-2.07 0-2.86zM5.41 20L4 18.59l7.72-7.72 1.47 1.35L5.41 20z\"/>\n",
              "  </svg>\n",
              "      </button>\n",
              "      \n",
              "  <style>\n",
              "    .colab-df-container {\n",
              "      display:flex;\n",
              "      flex-wrap:wrap;\n",
              "      gap: 12px;\n",
              "    }\n",
              "\n",
              "    .colab-df-convert {\n",
              "      background-color: #E8F0FE;\n",
              "      border: none;\n",
              "      border-radius: 50%;\n",
              "      cursor: pointer;\n",
              "      display: none;\n",
              "      fill: #1967D2;\n",
              "      height: 32px;\n",
              "      padding: 0 0 0 0;\n",
              "      width: 32px;\n",
              "    }\n",
              "\n",
              "    .colab-df-convert:hover {\n",
              "      background-color: #E2EBFA;\n",
              "      box-shadow: 0px 1px 2px rgba(60, 64, 67, 0.3), 0px 1px 3px 1px rgba(60, 64, 67, 0.15);\n",
              "      fill: #174EA6;\n",
              "    }\n",
              "\n",
              "    [theme=dark] .colab-df-convert {\n",
              "      background-color: #3B4455;\n",
              "      fill: #D2E3FC;\n",
              "    }\n",
              "\n",
              "    [theme=dark] .colab-df-convert:hover {\n",
              "      background-color: #434B5C;\n",
              "      box-shadow: 0px 1px 3px 1px rgba(0, 0, 0, 0.15);\n",
              "      filter: drop-shadow(0px 1px 2px rgba(0, 0, 0, 0.3));\n",
              "      fill: #FFFFFF;\n",
              "    }\n",
              "  </style>\n",
              "\n",
              "      <script>\n",
              "        const buttonEl =\n",
              "          document.querySelector('#df-446ac309-fe24-4f2d-b86b-753165d89f42 button.colab-df-convert');\n",
              "        buttonEl.style.display =\n",
              "          google.colab.kernel.accessAllowed ? 'block' : 'none';\n",
              "\n",
              "        async function convertToInteractive(key) {\n",
              "          const element = document.querySelector('#df-446ac309-fe24-4f2d-b86b-753165d89f42');\n",
              "          const dataTable =\n",
              "            await google.colab.kernel.invokeFunction('convertToInteractive',\n",
              "                                                     [key], {});\n",
              "          if (!dataTable) return;\n",
              "\n",
              "          const docLinkHtml = 'Like what you see? Visit the ' +\n",
              "            '<a target=\"_blank\" href=https://colab.research.google.com/notebooks/data_table.ipynb>data table notebook</a>'\n",
              "            + ' to learn more about interactive tables.';\n",
              "          element.innerHTML = '';\n",
              "          dataTable['output_type'] = 'display_data';\n",
              "          await google.colab.output.renderOutput(dataTable, element);\n",
              "          const docLink = document.createElement('div');\n",
              "          docLink.innerHTML = docLinkHtml;\n",
              "          element.appendChild(docLink);\n",
              "        }\n",
              "      </script>\n",
              "    </div>\n",
              "  </div>\n",
              "  "
            ],
            "text/plain": [
              "       Token Shape    PoS   Tag    Lemma  IsAlpha  IsStopWords\n",
              "0          I     X   PRON   PRP   -PRON-     True         True\n",
              "1         'm    'x    AUX   VBP       be    False         True\n",
              "2          I     X   PRON   PRP   -PRON-     True         True\n",
              "3         'm    'x    AUX   VBP       be    False         True\n",
              "4         in    xx    ADP    IN       in     True         True\n",
              "..       ...   ...    ...   ...      ...      ...          ...\n",
              "176    value  xxxx   NOUN    NN    value     True        False\n",
              "177      for   xxx    ADP    IN      for     True         True\n",
              "178     your  xxxx    DET  PRP$   -PRON-     True         True\n",
              "179  company  xxxx   NOUN    NN  company     True        False\n",
              "180        .     .  PUNCT     .        .    False        False\n",
              "\n",
              "[181 rows x 7 columns]"
            ]
          },
          "metadata": {},
          "execution_count": 53
        }
      ]
    },
    {
      "cell_type": "markdown",
      "source": [
        "# NLP Vocabulary\n",
        "\n",
        "Tokenization is a way of separating a piece of text into smaller units called tokens. Here, **tokens** can be either words, characters, or punctuation.\n",
        "\n",
        "A **POS tag** (or part-of-speech tag) is a special label assigned to each token (word) in a text corpus to indicate the part of speech and often also other grammatical categories such as tense, number (plural/singular), case etc. More info: https://en.wikipedia.org/wiki/Part_of_speech.\n",
        "\n",
        "The **lemma** is the form of the word  found in dictionaries, sometimes called the **base form**. Introducing lemmas makes it possible to treat different word forms of the word as the same word. \n",
        "\n",
        "**Stopwords** are those words that do not provide any useful information to decide in which category a text should be classified. This may be either because they don't have any meaning (prepositions, conjunctions, etc.) or because they are too frequent in the classification context."
      ],
      "metadata": {
        "id": "5ncx--r_02sV"
      }
    }
  ]
}